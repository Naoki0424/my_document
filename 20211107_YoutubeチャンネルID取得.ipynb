{
  "nbformat": 4,
  "nbformat_minor": 0,
  "metadata": {
    "colab": {
      "name": "20211107_YoutubeチャンネルID取得.ipynb",
      "provenance": [],
      "collapsed_sections": [],
      "toc_visible": true,
      "authorship_tag": "ABX9TyPxGAezn3Q8BZP9NDXtD61R",
      "include_colab_link": true
    },
    "kernelspec": {
      "name": "python3",
      "display_name": "Python 3"
    },
    "language_info": {
      "name": "python"
    }
  },
  "cells": [
    {
      "cell_type": "markdown",
      "metadata": {
        "id": "view-in-github",
        "colab_type": "text"
      },
      "source": [
        "<a href=\"https://colab.research.google.com/github/Naoki0424/my_document/blob/main/20211107_Youtube%E3%83%81%E3%83%A3%E3%83%B3%E3%83%8D%E3%83%ABID%E5%8F%96%E5%BE%97.ipynb\" target=\"_parent\"><img src=\"https://colab.research.google.com/assets/colab-badge.svg\" alt=\"Open In Colab\"/></a>"
      ]
    },
    {
      "cell_type": "markdown",
      "metadata": {
        "id": "Yro7ECfni06m"
      },
      "source": [
        "# YoutubeチャンネルのID取得スクリプト"
      ]
    },
    {
      "cell_type": "markdown",
      "metadata": {
        "id": "6CUJkp2Ai6LW"
      },
      "source": [
        "## Youtube Api Dataの設定"
      ]
    },
    {
      "cell_type": "code",
      "metadata": {
        "id": "CWLGrQ67kdA1"
      },
      "source": [
        "from apiclient.discovery import build\n",
        "from apiclient.errors import HttpError\n",
        "import pandas as pd\n",
        " \n",
        "# Youtube data api を利用する上での情報を定義する\n",
        "DEVELOPER_KEY = ''\n",
        "YOUTUBE_API_SERVICE_NAME = 'youtube'\n",
        "YOUTUBE_API_VERSION = 'v3'\n",
        " \n",
        "youtube = build(\n",
        "    YOUTUBE_API_SERVICE_NAME, \n",
        "    YOUTUBE_API_VERSION,\n",
        "    developerKey=DEVELOPER_KEY\n",
        "    )"
      ],
      "execution_count": null,
      "outputs": []
    },
    {
      "cell_type": "markdown",
      "metadata": {
        "id": "0DtksGhQjEHx"
      },
      "source": [
        "## 情報取得"
      ]
    },
    {
      "cell_type": "code",
      "metadata": {
        "id": "ShUL3UpZnYtN"
      },
      "source": [
        "# 任意の検索条件でチャンネル情報を取得する\n",
        "def get_video_inoformation(part, q, order, type, maxResults=5):\n",
        "    # データ取得件数(4の場合は200チャンネル)\n",
        "    num =6\n",
        "    result = []\n",
        "    search_response = youtube.search().list(\n",
        "        q=q,\n",
        "        part=part,\n",
        "        maxResults=maxResults,\n",
        "        type=type,\n",
        "        regionCode='JP'\n",
        "        )\n",
        "    output = search_response.execute()\n",
        "\n",
        "    for i in range(num):\n",
        "        result = result + output['items']\n",
        "        search_response = youtube.search().list_next(search_response, output)\n",
        "        output = search_response.execute()\n",
        " \n",
        "    return result"
      ],
      "execution_count": null,
      "outputs": []
    },
    {
      "cell_type": "code",
      "metadata": {
        "id": "McPg3ZFxz3Ep"
      },
      "source": [
        "# 対象のチャンネルの詳細情報を取得する\n",
        "def get_video_detail(channel_id):\n",
        "    search_response = youtube.channels().list(\n",
        "        part='snippet,statistics',\n",
        "        id=channel_id,\n",
        "        maxResults=50\n",
        "    ).execute()\n",
        "\n",
        "    return search_response"
      ],
      "execution_count": null,
      "outputs": []
    },
    {
      "cell_type": "code",
      "metadata": {
        "id": "SH4eSel6nuDb"
      },
      "source": [
        "# video = get_video_inoformation(part='id', q='アラサー 孤独 酒', order='viewCount', type='channel', maxResults=50)\n",
        "video = get_video_inoformation(part='id,snippet', q='Vlog 社会人 勉強', order='viewCount', type='channel', maxResults=50)\n"
      ],
      "execution_count": null,
      "outputs": []
    },
    {
      "cell_type": "code",
      "metadata": {
        "id": "gNwqz4iYnugH",
        "colab": {
          "base_uri": "https://localhost:8080/"
        },
        "outputId": "63dc652d-87ef-4bf8-d9f1-feea5ac3ea0e"
      },
      "source": [
        "#各動画毎に一意のvideoIdを取得\n",
        "channelId_list = []\n",
        "for result in video:\n",
        "  if result['id']['channelId'] not in channelId_list:\n",
        "    channelId_list.append(result['id']['channelId'])\n",
        "\n",
        "print(len(channelId_list))\n",
        "\n",
        "# n  = int(len(channelId_list)/50) + 1\n",
        "n = 50\n",
        "print(n)\n",
        "\n",
        "channelIds = [channelId_list[i: i + n] for i in range(0, len(channelId_list), n)]\n",
        "\n",
        "print(len(channelIds))\n",
        "\n",
        "for i in range(len(channelIds)):\n",
        "  channelIds[i] = \",\".join(channelIds[i])\n",
        "\n",
        "print(len(channelIds))\n",
        "print(channelIds[0])\n",
        "print(type(channelIds[1]))"
      ],
      "execution_count": null,
      "outputs": [
        {
          "output_type": "stream",
          "name": "stdout",
          "text": [
            "290\n",
            "50\n",
            "6\n",
            "6\n",
            "UCzWiCGpjFWj3Z-gfQO_Fe5w,UClKQXkWzmHxAfmYGwLMHk2A,UCqbblsirstzDwcebju5xYsw,UCk7954B58JqcpCmgDRP7W9w,UCRK6ULLW1w-ja-jH1dXrGeQ,UCDlJYL8EoAQB4M8iQjMOoAQ,UCkD8x5Mc_17yhrhO_Dz4sJg,UCKb-pvZM9-ax6FHd3F1cV7Q,UCYRtDf3MOXRtOM_ZzRTb-Lw,UCs2jEH79N6jxaKQwtsDz8KA,UCZqdnp83yehIAmnXrKABQLg,UCFKRJcgr8Zg7NQJC-YKQsIw,UCSeI03oEtgpFNV8Gnaqj9VA,UCvTd1VHeod06mxpoLnFGGyQ,UCoxI3XyAd87VvzvVE4uGleg,UCPUoof1xbSmjOV5SxR4YiaQ,UCX_CNnukpbQHTO_ET_3MITQ,UCxGDN1EwNd5ukVegZ2BPYMw,UCN3nvWDEFp1J5Xa8uMYE7Rg,UC3WwJoyeNyy4zpKW9y-Vcdg,UCXd6yOXkYoQuYGWL-E_l4oQ,UCpHK3lhpKxgC-xiwAANRPIQ,UCAWYHCV3mCr54npO3Q-WJrw,UCxgIVsWay52aBTCS9owWffQ,UCVTd4TPjqGCF8FFwKuXTAxg,UC_F-t_3B1GwGsa__t69W7bw,UCZDCPOeJLm6Pcx2ou9nCMOg,UC3KAbIaJear-m5kmT6bvnjg,UCqTMpFHg8E2bdI-SzjLzJCA,UCgy1-XhSS3IvjkbRnoUILCA,UCT_Uux1pxZwvVCM6DJ1LxZw,UCtxI5MfTI1XUgENVs-qRhRg,UC84jYNEG6_bIJICWZno-MjQ,UCeodH3Dl-fuqT6V1vNJcRww,UCotoNbXZpQ8yBFaVK28C2Ng,UCKBj3gpS5puaLF-DpVX1XLg,UCw1wTCNndKBVdtyVvco3HRg,UCc6Cpq-bqM9ggEifg5Ou6tw,UCg2qnwl8arSj5eGkJiyCC0w,UCHKn-i_V7eMUod5Eh4LeF3w,UC-dRWtMBerxm-6s_kOwPW2w,UCEKtOm67VW1bsdBw3NkrRmw,UCSgscaxAfFshEUGEZ-rxChQ,UCtufc6-ArmG9qkeH-QASoTA,UCYsEKEq95k2hcrGQUEyI0ow,UCEv79L5i70oQsyhMXtYL57A,UChuPHAA8MPjcSO7lgyInGSQ,UCB4qtcnekXGWG6GouHaw3Ig,UCODfbtbu71FcRdOTpSc4gsQ,UC_MdSlKtr2uof74QtD3NhZQ\n",
            "<class 'str'>\n"
          ]
        }
      ]
    },
    {
      "cell_type": "code",
      "metadata": {
        "id": "SJy6FYMfqE_1"
      },
      "source": [
        "video_detail = []\n",
        "\n",
        "for i in range(len(channelIds)):\n",
        "  video_detail = video_detail + get_video_detail(channelIds[i])['items']"
      ],
      "execution_count": null,
      "outputs": []
    },
    {
      "cell_type": "code",
      "metadata": {
        "id": "pI2kPbqw23SC"
      },
      "source": [
        "def get_subscriberCount(data):\n",
        "  if data['statistics']['hiddenSubscriberCount']:\n",
        "    return '非公開'\n",
        "\n",
        "  return data['statistics']['subscriberCount']"
      ],
      "execution_count": null,
      "outputs": []
    },
    {
      "cell_type": "code",
      "metadata": {
        "id": "22sh8GeL1hzQ",
        "colab": {
          "base_uri": "https://localhost:8080/"
        },
        "outputId": "f7b44958-329d-4fd3-f8ad-9ad38145556b"
      },
      "source": [
        "list = []\n",
        "print(len(video_detail))\n",
        "for result in video_detail:\n",
        "  list.append({'チャンネルID':result['id'], 'チャンネル名': result['snippet']['title'], '開始日':result['snippet']['publishedAt'][:10], '投稿本数':result['statistics']['videoCount'], 'チャンネル登録者数':get_subscriberCount(result)})\n",
        "  # print(result['snippet']['title'], result['snippet']['publishedAt'], result['statistics']['videoCount'], get_subscriberCount(result))\n",
        "\n",
        "df = pd.DataFrame(list)\n"
      ],
      "execution_count": null,
      "outputs": [
        {
          "output_type": "stream",
          "name": "stdout",
          "text": [
            "290\n"
          ]
        }
      ]
    },
    {
      "cell_type": "code",
      "metadata": {
        "id": "vymvrM885z-O",
        "colab": {
          "base_uri": "https://localhost:8080/",
          "height": 414
        },
        "outputId": "b382562f-eea1-4b4e-d544-abb96390e309"
      },
      "source": [
        "df"
      ],
      "execution_count": null,
      "outputs": [
        {
          "output_type": "execute_result",
          "data": {
            "text/html": [
              "<div>\n",
              "<style scoped>\n",
              "    .dataframe tbody tr th:only-of-type {\n",
              "        vertical-align: middle;\n",
              "    }\n",
              "\n",
              "    .dataframe tbody tr th {\n",
              "        vertical-align: top;\n",
              "    }\n",
              "\n",
              "    .dataframe thead th {\n",
              "        text-align: right;\n",
              "    }\n",
              "</style>\n",
              "<table border=\"1\" class=\"dataframe\">\n",
              "  <thead>\n",
              "    <tr style=\"text-align: right;\">\n",
              "      <th></th>\n",
              "      <th>チャンネルID</th>\n",
              "      <th>チャンネル名</th>\n",
              "      <th>開始日</th>\n",
              "      <th>投稿本数</th>\n",
              "      <th>チャンネル登録者数</th>\n",
              "    </tr>\n",
              "  </thead>\n",
              "  <tbody>\n",
              "    <tr>\n",
              "      <th>0</th>\n",
              "      <td>UC3KAbIaJear-m5kmT6bvnjg</td>\n",
              "      <td>こもりん_外資リーマンの勉強・筋トレVlog</td>\n",
              "      <td>2021-01-31</td>\n",
              "      <td>55</td>\n",
              "      <td>693</td>\n",
              "    </tr>\n",
              "    <tr>\n",
              "      <th>1</th>\n",
              "      <td>UCRK6ULLW1w-ja-jH1dXrGeQ</td>\n",
              "      <td>RaysVlog / 社会人勉強VLOG</td>\n",
              "      <td>2021-05-07</td>\n",
              "      <td>20</td>\n",
              "      <td>非公開</td>\n",
              "    </tr>\n",
              "    <tr>\n",
              "      <th>2</th>\n",
              "      <td>UCxgIVsWay52aBTCS9owWffQ</td>\n",
              "      <td>ぽんすけぶろぐ</td>\n",
              "      <td>2016-03-25</td>\n",
              "      <td>39</td>\n",
              "      <td>771</td>\n",
              "    </tr>\n",
              "    <tr>\n",
              "      <th>3</th>\n",
              "      <td>UCXd6yOXkYoQuYGWL-E_l4oQ</td>\n",
              "      <td>ろくまる 30代社会人・子持ちの勉強系Vlog</td>\n",
              "      <td>2021-07-04</td>\n",
              "      <td>6</td>\n",
              "      <td>3</td>\n",
              "    </tr>\n",
              "    <tr>\n",
              "      <th>4</th>\n",
              "      <td>UCtxI5MfTI1XUgENVs-qRhRg</td>\n",
              "      <td>Chiharu VLOG / 社会人ルーティン</td>\n",
              "      <td>2021-05-08</td>\n",
              "      <td>35</td>\n",
              "      <td>35</td>\n",
              "    </tr>\n",
              "    <tr>\n",
              "      <th>...</th>\n",
              "      <td>...</td>\n",
              "      <td>...</td>\n",
              "      <td>...</td>\n",
              "      <td>...</td>\n",
              "      <td>...</td>\n",
              "    </tr>\n",
              "    <tr>\n",
              "      <th>285</th>\n",
              "      <td>UCw3RCydc5_K74047gunkeaw</td>\n",
              "      <td>れのれらTV / RenoRera TV</td>\n",
              "      <td>2015-02-21</td>\n",
              "      <td>1787</td>\n",
              "      <td>176000</td>\n",
              "    </tr>\n",
              "    <tr>\n",
              "      <th>286</th>\n",
              "      <td>UCrcM9cvN5MlTPypnNFR4TnA</td>\n",
              "      <td>死ぬまで生きる問題チャンネル</td>\n",
              "      <td>2017-10-29</td>\n",
              "      <td>556</td>\n",
              "      <td>非公開</td>\n",
              "    </tr>\n",
              "    <tr>\n",
              "      <th>287</th>\n",
              "      <td>UCF-NghPcqBfeU85LSgU4s0w</td>\n",
              "      <td>Nest</td>\n",
              "      <td>2014-07-17</td>\n",
              "      <td>48</td>\n",
              "      <td>773</td>\n",
              "    </tr>\n",
              "    <tr>\n",
              "      <th>288</th>\n",
              "      <td>UC7PcfykDBoh4GMd_lQc8qkQ</td>\n",
              "      <td>ゆうチャンネル</td>\n",
              "      <td>2020-12-11</td>\n",
              "      <td>218</td>\n",
              "      <td>3560</td>\n",
              "    </tr>\n",
              "    <tr>\n",
              "      <th>289</th>\n",
              "      <td>UCQKtAeAMkF4jdUsTePQEKDw</td>\n",
              "      <td>T先輩</td>\n",
              "      <td>2017-06-23</td>\n",
              "      <td>1627</td>\n",
              "      <td>22700</td>\n",
              "    </tr>\n",
              "  </tbody>\n",
              "</table>\n",
              "<p>290 rows × 5 columns</p>\n",
              "</div>"
            ],
            "text/plain": [
              "                      チャンネルID                   チャンネル名  ...  投稿本数 チャンネル登録者数\n",
              "0    UC3KAbIaJear-m5kmT6bvnjg   こもりん_外資リーマンの勉強・筋トレVlog  ...    55       693\n",
              "1    UCRK6ULLW1w-ja-jH1dXrGeQ     RaysVlog / 社会人勉強VLOG  ...    20       非公開\n",
              "2    UCxgIVsWay52aBTCS9owWffQ                  ぽんすけぶろぐ  ...    39       771\n",
              "3    UCXd6yOXkYoQuYGWL-E_l4oQ  ろくまる 30代社会人・子持ちの勉強系Vlog  ...     6         3\n",
              "4    UCtxI5MfTI1XUgENVs-qRhRg  Chiharu VLOG / 社会人ルーティン  ...    35        35\n",
              "..                        ...                      ...  ...   ...       ...\n",
              "285  UCw3RCydc5_K74047gunkeaw     れのれらTV / RenoRera TV  ...  1787    176000\n",
              "286  UCrcM9cvN5MlTPypnNFR4TnA           死ぬまで生きる問題チャンネル  ...   556       非公開\n",
              "287  UCF-NghPcqBfeU85LSgU4s0w                     Nest  ...    48       773\n",
              "288  UC7PcfykDBoh4GMd_lQc8qkQ                  ゆうチャンネル  ...   218      3560\n",
              "289  UCQKtAeAMkF4jdUsTePQEKDw                      T先輩  ...  1627     22700\n",
              "\n",
              "[290 rows x 5 columns]"
            ]
          },
          "metadata": {},
          "execution_count": 19
        }
      ]
    },
    {
      "cell_type": "markdown",
      "metadata": {
        "id": "_yfVPBQbjJWc"
      },
      "source": [
        "## CSVで保存"
      ]
    },
    {
      "cell_type": "code",
      "metadata": {
        "id": "7TajsoKGAA8u",
        "colab": {
          "base_uri": "https://localhost:8080/"
        },
        "outputId": "5761cea9-d082-4377-e0de-28ffbabf25c2"
      },
      "source": [
        "from google.colab import drive\n",
        "drive.mount('/content/gdrive')\n",
        "df.to_csv('/content/gdrive/My Drive/Colab Notebooks/work/youtube_chanel.csv')"
      ],
      "execution_count": null,
      "outputs": [
        {
          "output_type": "stream",
          "name": "stdout",
          "text": [
            "Drive already mounted at /content/gdrive; to attempt to forcibly remount, call drive.mount(\"/content/gdrive\", force_remount=True).\n"
          ]
        }
      ]
    },
    {
      "cell_type": "code",
      "metadata": {
        "id": "PH2V35QXAchv"
      },
      "source": [
        ""
      ],
      "execution_count": null,
      "outputs": []
    }
  ]
}