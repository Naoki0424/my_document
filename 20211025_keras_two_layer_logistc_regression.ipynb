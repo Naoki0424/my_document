{
  "nbformat": 4,
  "nbformat_minor": 0,
  "metadata": {
    "colab": {
      "name": "20211025_keras_two_layer_logistc_regression.ipynb",
      "provenance": [],
      "authorship_tag": "ABX9TyOe41NX4uDXPSYw4Rl9syep",
      "include_colab_link": true
    },
    "kernelspec": {
      "name": "python3",
      "display_name": "Python 3"
    },
    "language_info": {
      "name": "python"
    }
  },
  "cells": [
    {
      "cell_type": "markdown",
      "metadata": {
        "id": "view-in-github",
        "colab_type": "text"
      },
      "source": [
        "<a href=\"https://colab.research.google.com/github/Naoki0424/my_document/blob/main/20211025_keras_two_layer_logistc_regression.ipynb\" target=\"_parent\"><img src=\"https://colab.research.google.com/assets/colab-badge.svg\" alt=\"Open In Colab\"/></a>"
      ]
    },
    {
      "cell_type": "markdown",
      "metadata": {
        "id": "nMIjm4vselBn"
      },
      "source": [
        "# 2層からなるニューラルネットワークの実装\n",
        "20211023_keras_logistic_regression.ipynbでは1層からなるニューラルネットワークの実装を行いました。イメージとしては(x1, x2)平面に直線を１本ひき2つに別れた領域のどちらに属するか、というイメージです。\n",
        "\n",
        "ここでは(x1, x2)平面に直線を2本ひき4つに別れた領域のどれに別れたか、と言うことを確認します。\n",
        "また本当にそのような結果になるのかといった部分も確認します"
      ]
    },
    {
      "cell_type": "markdown",
      "metadata": {
        "id": "vM8RkET3ffDl"
      },
      "source": [
        "## ライブラリのインポート"
      ]
    },
    {
      "cell_type": "code",
      "metadata": {
        "id": "Bkm02qi9eVt1"
      },
      "source": [
        "import numpy as np\n",
        "from numpy.random import multivariate_normal, permutation\n",
        "import pandas as pd\n",
        "from pandas import DataFrame\n",
        "import matplotlib.pyplot as plt\n",
        "\n",
        "import tensorflow as tf\n",
        "from tensorflow.keras import layers, models, utils\n",
        "\n",
        "np.random.seed(20211025)\n",
        "tf.random.set_seed(20211025)"
      ],
      "execution_count": 28,
      "outputs": []
    },
    {
      "cell_type": "markdown",
      "metadata": {
        "id": "kS0rG1ttgJ3v"
      },
      "source": [
        "## 学習用のデータ生成"
      ]
    },
    {
      "cell_type": "code",
      "metadata": {
        "id": "IsuXsZbGgNEx"
      },
      "source": [
        "def generate_datablock(n, mu, var, t):\n",
        "  data = multivariate_normal(mu, np.eye(2)*var, n)\n",
        "  df = DataFrame(data, columns=['x1', 'x2'])\n",
        "  df['t'] = t\n",
        "  return df\n",
        "\n",
        "df0 = generate_datablock(15, [-8, -8], 22, 0)\n",
        "df1 = generate_datablock(15, [7, -8], 22, 0)\n",
        "df2 = generate_datablock(10, [-8, 7], 22, 0)\n",
        "df3 = generate_datablock(20, [5, 5], 22, 1)\n",
        "\n",
        "df = pd.concat([df0, df1, df2, df3], ignore_index=True)\n",
        "train_set = df.reindex(permutation(df.index)).reset_index(drop=True)"
      ],
      "execution_count": 29,
      "outputs": []
    },
    {
      "cell_type": "code",
      "metadata": {
        "id": "Fc1ejanthk59"
      },
      "source": [
        "train_x = train_set[['x1', 'x2']].values\n",
        "train_t = train_set['t'].values"
      ],
      "execution_count": 30,
      "outputs": []
    },
    {
      "cell_type": "code",
      "metadata": {
        "colab": {
          "base_uri": "https://localhost:8080/"
        },
        "id": "7x8ivbYCmYsR",
        "outputId": "9d72488e-c9b8-4a18-b6f2-a1691c6f34fd"
      },
      "source": [
        "train_x"
      ],
      "execution_count": 31,
      "outputs": [
        {
          "output_type": "execute_result",
          "data": {
            "text/plain": [
              "array([[ 1.00101277e+01,  2.57391635e+00],\n",
              "       [ 4.94484902e+00,  7.91182137e+00],\n",
              "       [ 1.18014244e+01,  6.27617731e+00],\n",
              "       [-1.27834230e+00,  7.34766560e+00],\n",
              "       [ 3.08381323e-01,  1.11763409e+01],\n",
              "       [-1.39098773e+01, -1.00684792e+01],\n",
              "       [ 5.15833760e+00, -1.34968486e+01],\n",
              "       [-8.17787909e+00,  9.55018598e+00],\n",
              "       [ 3.27916689e-01, -1.98474677e+01],\n",
              "       [ 1.53271668e+01,  7.58999399e+00],\n",
              "       [ 2.99325176e+00,  2.33875064e+00],\n",
              "       [ 5.27129983e+00, -8.22702326e+00],\n",
              "       [-9.03500290e+00, -1.02569589e+01],\n",
              "       [ 9.93959442e+00, -4.54828178e+00],\n",
              "       [ 5.57372184e+00, -7.22112968e+00],\n",
              "       [-3.25912582e+00,  3.29803136e+00],\n",
              "       [-1.88861708e+00, -8.96294289e+00],\n",
              "       [ 6.36490463e+00,  3.82450323e+00],\n",
              "       [ 1.19157055e+01, -4.98495839e+00],\n",
              "       [-1.52343355e+01, -7.31739161e+00],\n",
              "       [ 2.52668631e-01, -9.19977345e+00],\n",
              "       [ 1.23087649e+01, -1.37573888e+01],\n",
              "       [ 3.75827267e+00,  3.13345304e-02],\n",
              "       [-5.01798680e+00,  9.26548591e+00],\n",
              "       [ 3.25193579e+00,  1.95314172e+00],\n",
              "       [ 8.32795133e+00, -1.07256114e+01],\n",
              "       [-1.01142602e+01,  2.24506657e+00],\n",
              "       [ 4.56428531e+00,  3.12582907e+00],\n",
              "       [-2.44909289e+00,  7.45202116e+00],\n",
              "       [-9.39054058e+00,  8.18309849e+00],\n",
              "       [ 7.37645148e+00,  1.51117798e+00],\n",
              "       [-1.63345093e+01, -5.14379464e+00],\n",
              "       [-8.51887301e+00,  2.97152522e+00],\n",
              "       [-3.74797747e+00,  9.34724921e-01],\n",
              "       [-9.44169220e+00, -1.46328857e+01],\n",
              "       [-1.31031676e+01, -2.98981716e+00],\n",
              "       [ 3.78726907e+00,  8.60898072e+00],\n",
              "       [ 9.59825144e+00, -8.60818974e+00],\n",
              "       [ 9.26270307e+00,  9.13769952e+00],\n",
              "       [ 7.72041644e+00,  1.67938339e-02],\n",
              "       [-1.36557183e+01, -9.92110316e+00],\n",
              "       [-9.89383257e+00,  2.01180151e+00],\n",
              "       [ 1.18727911e+01, -1.01410121e+01],\n",
              "       [-4.94130770e+00,  6.34457267e+00],\n",
              "       [-2.54409852e+00,  1.34516795e+00],\n",
              "       [-1.05981799e+00, -6.08328545e+00],\n",
              "       [ 1.33470590e+01, -1.27758806e+01],\n",
              "       [-1.23092747e+01,  1.56526834e+00],\n",
              "       [ 1.12162743e+01, -9.90326797e+00],\n",
              "       [-5.78265925e+00, -1.39102231e-01],\n",
              "       [ 8.81575812e+00,  4.40008712e+00],\n",
              "       [-1.11323670e+01, -2.81725103e+00],\n",
              "       [-9.14745798e+00, -1.39428181e+01],\n",
              "       [ 8.59710605e-01, -1.22700325e+00],\n",
              "       [ 3.48819311e+00, -8.72824938e+00],\n",
              "       [-1.02018085e+01, -1.25662830e+01],\n",
              "       [ 8.72107710e+00, -1.00014552e+01],\n",
              "       [ 1.95155295e+00, -1.56331887e+01],\n",
              "       [-7.47536116e+00,  1.46816126e+01],\n",
              "       [ 3.21673639e+00, -2.68794514e+00]])"
            ]
          },
          "metadata": {},
          "execution_count": 31
        }
      ]
    },
    {
      "cell_type": "markdown",
      "metadata": {
        "id": "HIYF9TIsiDQd"
      },
      "source": [
        "## ニューラルネットワークのモデル定義"
      ]
    },
    {
      "cell_type": "code",
      "metadata": {
        "colab": {
          "base_uri": "https://localhost:8080/"
        },
        "id": "3hUwR5bnhAg2",
        "outputId": "7284e3c6-4f99-4da5-a4f3-c698fada8778"
      },
      "source": [
        "model = models.Sequential()\n",
        "model.add(layers.Dense(10, activation='tanh', input_shape=(2, ), name='hidden'))\n",
        "model.add(layers.Dense(1, activation='sigmoid', name='output'))\n",
        "model.summary()"
      ],
      "execution_count": 32,
      "outputs": [
        {
          "output_type": "stream",
          "name": "stdout",
          "text": [
            "Model: \"sequential_3\"\n",
            "_________________________________________________________________\n",
            "Layer (type)                 Output Shape              Param #   \n",
            "=================================================================\n",
            "hidden (Dense)               (None, 10)                30        \n",
            "_________________________________________________________________\n",
            "output (Dense)               (None, 1)                 11        \n",
            "=================================================================\n",
            "Total params: 41\n",
            "Trainable params: 41\n",
            "Non-trainable params: 0\n",
            "_________________________________________________________________\n"
          ]
        }
      ]
    },
    {
      "cell_type": "markdown",
      "metadata": {
        "id": "h4z-letii0go"
      },
      "source": [
        "`model.add()`によりレイヤーを追加することができます。\n",
        "2つ目のレイヤーでは`input_shape`を定義していませんが、1つ目のレイヤーの出力がそのまま入力となります。よってここでは入力値の形状は(None, 2)で内容は下記(z1, z2)となります。\n",
        "\n",
        "$$\n",
        "z_{1} = tanh(w_{11}x_{1} + w_{21}x_{2} + b_{1})\n",
        "$$\n",
        "$$\n",
        "z_{2} = tanh(w_{12}x_{1} + w_{22}x_{2} + b_{2})\n",
        "$$\n"
      ]
    },
    {
      "cell_type": "code",
      "metadata": {
        "colab": {
          "base_uri": "https://localhost:8080/",
          "height": 121
        },
        "id": "ZeE_rVuhp6Cd",
        "outputId": "0d5dd33c-835f-4e8d-a853-d815fba15901"
      },
      "source": [
        "utils.plot_model(model, to_file='model.png', show_shapes=True, show_layer_names=True, rankdir='LR', expand_nested=True, dpi=96)"
      ],
      "execution_count": 33,
      "outputs": [
        {
          "output_type": "execute_result",
          "data": {
            "image/png": "[encoded data removed]",
            "text/plain": [
              "<IPython.core.display.Image object>"
            ]
          },
          "metadata": {},
          "execution_count": 33
        }
      ]
    },
    {
      "cell_type": "markdown",
      "metadata": {
        "id": "Pa3v92hXWWp8"
      },
      "source": [
        "hidden: Denseのoutputを増やすことで平面を分割する直線を増やすことができます。これにより格領域を特徴づける変数を増やすことができます。"
      ]
    },
    {
      "cell_type": "markdown",
      "metadata": {
        "id": "9mo1MzTtlV6r"
      },
      "source": [
        "## 最適化アルゴリズムと誤差関数の定義"
      ]
    },
    {
      "cell_type": "code",
      "metadata": {
        "id": "_pmrprfmikGS"
      },
      "source": [
        "model.compile(optimizer='adam', loss='binary_crossentropy', metrics=['acc'])"
      ],
      "execution_count": 34,
      "outputs": []
    },
    {
      "cell_type": "markdown",
      "metadata": {
        "id": "_o_HXIA5lkEw"
      },
      "source": [
        "## 学習"
      ]
    },
    {
      "cell_type": "code",
      "metadata": {
        "id": "Wn9lFgfHlilD"
      },
      "source": [
        "history = model.fit(train_x, train_t, batch_size=len(train_set), epochs=5000, verbose=0)"
      ],
      "execution_count": 35,
      "outputs": []
    },
    {
      "cell_type": "markdown",
      "metadata": {
        "id": "0EmQD1azl0Im"
      },
      "source": [
        "## 学習結果の可視化"
      ]
    },
    {
      "cell_type": "code",
      "metadata": {
        "colab": {
          "base_uri": "https://localhost:8080/",
          "height": 530
        },
        "id": "x9rxNYa3lvFb",
        "outputId": "db29c657-c356-47f8-f15d-5648a7f99092"
      },
      "source": [
        "DataFrame({'acc': history.history['acc']}).plot()\n",
        "DataFrame({'loss': history.history['loss']}).plot()"
      ],
      "execution_count": 36,
      "outputs": [
        {
          "output_type": "execute_result",
          "data": {
            "text/plain": [
              "<matplotlib.axes._subplots.AxesSubplot at 0x7fbcf22ace90>"
            ]
          },
          "metadata": {},
          "execution_count": 36
        },
        {
          "output_type": "display_data",
          "data": {
            "image/png": "[encoded data removed]",
            "text/plain": [
              "<Figure size 432x288 with 1 Axes>"
            ]
          },
          "metadata": {
            "needs_background": "light"
          }
        },
        {
          "output_type": "display_data",
          "data": {
            "image/png": "[encoded data removed]",
            "text/plain": [
              "<Figure size 432x288 with 1 Axes>"
            ]
          },
          "metadata": {
            "needs_background": "light"
          }
        }
      ]
    },
    {
      "cell_type": "markdown",
      "metadata": {
        "id": "6iiiw9BqmsTQ"
      },
      "source": [
        "## 得られた結果の図"
      ]
    },
    {
      "cell_type": "code",
      "metadata": {
        "colab": {
          "base_uri": "https://localhost:8080/",
          "height": 449
        },
        "id": "GAgD_X01mAHs",
        "outputId": "37f6cb44-cba5-48e9-f706-7a56b3bd5a3c"
      },
      "source": [
        "train_set1 = train_set[train_set['t'] == 1]\n",
        "train_set2 = train_set[train_set['t'] == 0]\n",
        "\n",
        "fig = plt.figure(figsize=(10, 7))\n",
        "subplot = fig.add_subplot(1, 1, 1)\n",
        "subplot.set_ylim([-15, 15])\n",
        "subplot.set_xlim([-15, 15])\n",
        "subplot.scatter(train_set1.x1, train_set1.x2, marker='x')\n",
        "subplot.scatter(train_set2.x1, train_set2.x2, marker='o')\n",
        "\n",
        "locations = [[x1, x2] for x2 in np.linspace(-15, 15, 100) for x1 in np.linspace(-15, 15, 100)]\n",
        "p_vals = model.predict(np.array(locations)).reshape((100, 100))\n",
        "\n",
        "subplot.imshow(p_vals, origin='lower', extent=(-15, 15, -15, 15), vmin=0, vmax=1, cmap=plt.cm.gray_r, alpha=0.5)"
      ],
      "execution_count": 37,
      "outputs": [
        {
          "output_type": "execute_result",
          "data": {
            "text/plain": [
              "<matplotlib.image.AxesImage at 0x7fbcf12c53d0>"
            ]
          },
          "metadata": {},
          "execution_count": 37
        },
        {
          "output_type": "display_data",
          "data": {
            "image/png": "[encoded data removed]",
            "text/plain": [
              "<Figure size 720x504 with 1 Axes>"
            ]
          },
          "metadata": {
            "needs_background": "light"
          }
        }
      ]
    },
    {
      "cell_type": "code",
      "metadata": {
        "id": "6Ra_bKT9m6uq"
      },
      "source": [
        ""
      ],
      "execution_count": 37,
      "outputs": []
    }
  ]
}