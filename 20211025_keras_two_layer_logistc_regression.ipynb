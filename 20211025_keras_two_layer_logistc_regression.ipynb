{
  "nbformat": 4,
  "nbformat_minor": 0,
  "metadata": {
    "colab": {
      "name": "20211025_keras_two_layer_logistc_regression.ipynb",
      "provenance": [],
      "authorship_tag": "ABX9TyMJ+f11KQw8kXGaivY9XG/2",
      "include_colab_link": true
    },
    "kernelspec": {
      "name": "python3",
      "display_name": "Python 3"
    },
    "language_info": {
      "name": "python"
    }
  },
  "cells": [
    {
      "cell_type": "markdown",
      "metadata": {
        "id": "view-in-github",
        "colab_type": "text"
      },
      "source": [
        "<a href=\"https://colab.research.google.com/github/Naoki0424/my_document/blob/main/20211025_keras_two_layer_logistc_regression.ipynb\" target=\"_parent\"><img src=\"https://colab.research.google.com/assets/colab-badge.svg\" alt=\"Open In Colab\"/></a>"
      ]
    },
    {
      "cell_type": "markdown",
      "metadata": {
        "id": "nMIjm4vselBn"
      },
      "source": [
        "# 2層からなるニューラルネットワークの実装\n",
        "\n"
      ]
    },
    {
      "cell_type": "markdown",
      "metadata": {
        "id": "vM8RkET3ffDl"
      },
      "source": [
        "## ライブラリのインポート"
      ]
    },
    {
      "cell_type": "code",
      "metadata": {
        "id": "Bkm02qi9eVt1"
      },
      "source": [
        "import numpy as np\n",
        "from numpy.random import multivariate_normal, permutation\n",
        "import pandas as pd\n",
        "from pandas import DataFrame\n",
        "import matplotlib.pyplot as plt\n",
        "\n",
        "import tensorflow as tf\n",
        "from tensorflow.keras import layers, models, utils, initializers\n",
        "\n",
        "np.random.seed(20211025)\n",
        "tf.random.set_seed(20211025)"
      ],
      "execution_count": 33,
      "outputs": []
    },
    {
      "cell_type": "markdown",
      "metadata": {
        "id": "kS0rG1ttgJ3v"
      },
      "source": [
        "## 学習用のデータ生成"
      ]
    },
    {
      "cell_type": "code",
      "metadata": {
        "id": "IsuXsZbGgNEx"
      },
      "source": [
        "def generate_datablock(n, mu, var, t):\n",
        "  data = multivariate_normal(mu, np.eye(2)*var, n)\n",
        "  df = DataFrame(data, columns=['x1', 'x2'])\n",
        "  df['t'] = t\n",
        "  return df\n",
        "\n",
        "df0 = generate_datablock(30, [-7, -7], 18, 1)\n",
        "df1 = generate_datablock(30, [7, -7], 18, 0)\n",
        "df2 = generate_datablock(30, [-7, 7], 18, 0)\n",
        "df3 = generate_datablock(30, [7, 7], 18, 1)\n",
        "\n",
        "df = pd.concat([df0, df1, df2, df3], ignore_index=True)\n",
        "train_set = df.reindex(permutation(df.index)).reset_index(drop=True)"
      ],
      "execution_count": 34,
      "outputs": []
    },
    {
      "cell_type": "code",
      "metadata": {
        "id": "Fc1ejanthk59"
      },
      "source": [
        "train_x = train_set[['x1', 'x2']].values\n",
        "train_t = train_set['t'].values"
      ],
      "execution_count": 35,
      "outputs": []
    },
    {
      "cell_type": "markdown",
      "metadata": {
        "id": "HIYF9TIsiDQd"
      },
      "source": [
        "## ニューラルネットワークのモデル定義"
      ]
    },
    {
      "cell_type": "code",
      "metadata": {
        "colab": {
          "base_uri": "https://localhost:8080/"
        },
        "id": "3hUwR5bnhAg2",
        "outputId": "31e553ac-6839-44af-bc7a-86eee4b061bc"
      },
      "source": [
        "model = models.Sequential()\n",
        "model.add(layers.Dense(2, activation='tanh', input_shape=(2, ), kernel_initializer=initializers.TruncatedNormal, name='hidden1'))\n",
        "model.add(layers.Dense(2, activation='tanh', kernel_initializer=initializers.TruncatedNormal, name='hidden2'))\n",
        "model.add(layers.Dense(1, activation='sigmoid', name='output'))\n",
        "model.summary()"
      ],
      "execution_count": 43,
      "outputs": [
        {
          "output_type": "stream",
          "name": "stdout",
          "text": [
            "Model: \"sequential_6\"\n",
            "_________________________________________________________________\n",
            "Layer (type)                 Output Shape              Param #   \n",
            "=================================================================\n",
            "hidden1 (Dense)              (None, 2)                 6         \n",
            "_________________________________________________________________\n",
            "hidden2 (Dense)              (None, 2)                 6         \n",
            "_________________________________________________________________\n",
            "output (Dense)               (None, 1)                 3         \n",
            "=================================================================\n",
            "Total params: 15\n",
            "Trainable params: 15\n",
            "Non-trainable params: 0\n",
            "_________________________________________________________________\n"
          ]
        }
      ]
    },
    {
      "cell_type": "markdown",
      "metadata": {
        "id": "h4z-letii0go"
      },
      "source": [
        "`model.add()`によりレイヤーを追加することができます。\n",
        "2つ目のレイヤーでは`input_shape`を定義していませんが、1つ目のレイヤーの出力がそのまま入力となります。よってここでは入力値の形状は(None, 2)で内容は下記(z1, z2)となります。\n",
        "\n",
        "$$\n",
        "z_{1} = tanh(w_{11}x_{1} + w_{21}x_{2} + b_{1})\n",
        "$$\n",
        "$$\n",
        "z_{2} = tanh(w_{12}x_{1} + w_{22}x_{2} + b_{2})\n",
        "$$\n"
      ]
    },
    {
      "cell_type": "code",
      "metadata": {
        "colab": {
          "base_uri": "https://localhost:8080/",
          "height": 121
        },
        "id": "ZeE_rVuhp6Cd",
        "outputId": "225d7263-a387-47af-8771-cea6335bc663"
      },
      "source": [
        "utils.plot_model(model, to_file='model.png', show_shapes=True, show_layer_names=True, rankdir='LR', expand_nested=True, dpi=96)"
      ],
      "execution_count": 44,
      "outputs": [
        {
          "output_type": "execute_result",
          "data": {
            "image/png": "[encoded data removed]",
            "text/plain": [
              "<IPython.core.display.Image object>"
            ]
          },
          "metadata": {},
          "execution_count": 44
        }
      ]
    },
    {
      "cell_type": "markdown",
      "metadata": {
        "id": "Pa3v92hXWWp8"
      },
      "source": [
        "hidden: Denseのoutputを増やすことで平面を分割する直線を増やすことができます。これにより格領域を特徴づける変数を増やすことができます。"
      ]
    },
    {
      "cell_type": "markdown",
      "metadata": {
        "id": "9mo1MzTtlV6r"
      },
      "source": [
        "## 最適化アルゴリズムと誤差関数の定義"
      ]
    },
    {
      "cell_type": "code",
      "metadata": {
        "id": "_pmrprfmikGS"
      },
      "source": [
        "model.compile(optimizer='adam', loss='binary_crossentropy', metrics=['acc'])"
      ],
      "execution_count": 45,
      "outputs": []
    },
    {
      "cell_type": "markdown",
      "metadata": {
        "id": "_o_HXIA5lkEw"
      },
      "source": [
        "## 学習"
      ]
    },
    {
      "cell_type": "code",
      "metadata": {
        "id": "Wn9lFgfHlilD"
      },
      "source": [
        "history = model.fit(train_x, train_t, batch_size=len(train_set), epochs=5000, verbose=0)"
      ],
      "execution_count": 46,
      "outputs": []
    },
    {
      "cell_type": "markdown",
      "metadata": {
        "id": "0EmQD1azl0Im"
      },
      "source": [
        "## 学習結果の可視化"
      ]
    },
    {
      "cell_type": "code",
      "metadata": {
        "colab": {
          "base_uri": "https://localhost:8080/",
          "height": 531
        },
        "id": "x9rxNYa3lvFb",
        "outputId": "32b99fb0-9274-4b53-bb01-5fcbfbfa06c7"
      },
      "source": [
        "DataFrame({'acc': history.history['acc']}).plot()\n",
        "DataFrame({'loss': history.history['loss']}).plot()"
      ],
      "execution_count": 41,
      "outputs": [
        {
          "output_type": "execute_result",
          "data": {
            "text/plain": [
              "<matplotlib.axes._subplots.AxesSubplot at 0x7f21e417cd90>"
            ]
          },
          "metadata": {},
          "execution_count": 41
        },
        {
          "output_type": "display_data",
          "data": {
            "image/png": "[encoded data removed]",
            "text/plain": [
              "<Figure size 432x288 with 1 Axes>"
            ]
          },
          "metadata": {
            "needs_background": "light"
          }
        },
        {
          "output_type": "display_data",
          "data": {
            "image/png": "[encoded data removed]",
            "text/plain": [
              "<Figure size 432x288 with 1 Axes>"
            ]
          },
          "metadata": {
            "needs_background": "light"
          }
        }
      ]
    },
    {
      "cell_type": "markdown",
      "metadata": {
        "id": "6iiiw9BqmsTQ"
      },
      "source": [
        "## 得られた結果の図"
      ]
    },
    {
      "cell_type": "code",
      "metadata": {
        "colab": {
          "base_uri": "https://localhost:8080/",
          "height": 449
        },
        "id": "GAgD_X01mAHs",
        "outputId": "9dfa3c8a-483f-4135-cb4f-8194f133e19c"
      },
      "source": [
        "train_set1 = train_set[train_set['t'] == 1]\n",
        "train_set2 = train_set[train_set['t'] == 0]\n",
        "\n",
        "fig = plt.figure(figsize=(10, 7))\n",
        "subplot = fig.add_subplot(1, 1, 1)\n",
        "subplot.set_ylim([-15, 15])\n",
        "subplot.set_xlim([-15, 15])\n",
        "subplot.scatter(train_set1.x1, train_set1.x2, marker='x')\n",
        "subplot.scatter(train_set2.x1, train_set2.x2, marker='o')\n",
        "\n",
        "locations = [[x1, x2] for x2 in np.linspace(-15, 15, 100) for x1 in np.linspace(-15, 15, 100)]\n",
        "p_vals = model.predict(np.array(locations)).reshape((100, 100))\n",
        "\n",
        "subplot.imshow(p_vals, origin='lower', extent=(-15, 15, -15, 15), vmin=0, vmax=1, cmap=plt.cm.gray_r, alpha=0.5)"
      ],
      "execution_count": 47,
      "outputs": [
        {
          "output_type": "execute_result",
          "data": {
            "text/plain": [
              "<matplotlib.image.AxesImage at 0x7f219135d750>"
            ]
          },
          "metadata": {},
          "execution_count": 47
        },
        {
          "output_type": "display_data",
          "data": {
            "image/png": "[encoded data removed]",
            "text/plain": [
              "<Figure size 720x504 with 1 Axes>"
            ]
          },
          "metadata": {
            "needs_background": "light"
          }
        }
      ]
    },
    {
      "cell_type": "code",
      "metadata": {
        "id": "6Ra_bKT9m6uq"
      },
      "source": [
        ""
      ],
      "execution_count": 42,
      "outputs": []
    }
  ]
}