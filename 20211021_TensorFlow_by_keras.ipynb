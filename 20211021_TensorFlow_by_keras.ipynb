{
  "nbformat": 4,
  "nbformat_minor": 0,
  "metadata": {
    "colab": {
      "name": "20211021_TensorFlow_by_keras.ipynb",
      "provenance": [],
      "toc_visible": true,
      "authorship_tag": "ABX9TyOJPCh5hQkHQmVfffcQEVjx",
      "include_colab_link": true
    },
    "kernelspec": {
      "name": "python3",
      "display_name": "Python 3"
    },
    "language_info": {
      "name": "python"
    }
  },
  "cells": [
    {
      "cell_type": "markdown",
      "metadata": {
        "id": "view-in-github",
        "colab_type": "text"
      },
      "source": [
        "<a href=\"https://colab.research.google.com/github/Naoki0424/my_document/blob/main/20211021_TensorFlow_by_keras.ipynb\" target=\"_parent\"><img src=\"https://colab.research.google.com/assets/colab-badge.svg\" alt=\"Open In Colab\"/></a>"
      ]
    },
    {
      "cell_type": "markdown",
      "metadata": {
        "id": "DMwen3JDN75G"
      },
      "source": [
        "# kerasを触ってみる"
      ]
    },
    {
      "cell_type": "markdown",
      "metadata": {
        "id": "tuf1qMf_N-sk"
      },
      "source": [
        "## TensorFlowのVerを設定する"
      ]
    },
    {
      "cell_type": "code",
      "metadata": {
        "id": "batY1HnZOEiC"
      },
      "source": [
        "%tensorflow_version 2.x"
      ],
      "execution_count": 2,
      "outputs": []
    },
    {
      "cell_type": "markdown",
      "metadata": {
        "id": "DuRU1jjsOQ0E"
      },
      "source": [
        "## ライブラリのインポート"
      ]
    },
    {
      "cell_type": "code",
      "metadata": {
        "id": "spCSYdZbNxUR"
      },
      "source": [
        "import numpy as np\n",
        "import matplotlib.pyplot as plt\n",
        "from pandas import DataFrame\n",
        "\n",
        "from tensorflow.keras import layers, models"
      ],
      "execution_count": 5,
      "outputs": []
    },
    {
      "cell_type": "markdown",
      "metadata": {
        "id": "ttijVNZ6OqbM"
      },
      "source": [
        "## 事前データ作成"
      ]
    },
    {
      "cell_type": "code",
      "metadata": {
        "id": "v2z2JnhaOj4w"
      },
      "source": [
        "# 目的変数\n",
        "train_t = np.array([5.2, 5.7, 6.7, 8.9, 13.2, 15.3, 20.5, 29.2, 20.0, 19.2, 10.2, 9])\n",
        "train_t = train_t.reshape([12, 1])\n",
        "# 説明変数\n",
        "train_x = np.array([[mon**n for n in range(1, 5)] for mon in range(1, 13)])"
      ],
      "execution_count": 9,
      "outputs": []
    },
    {
      "cell_type": "code",
      "metadata": {
        "colab": {
          "base_uri": "https://localhost:8080/"
        },
        "id": "cN0Q7WS8OujX",
        "outputId": "d0128568-7cb8-46d3-c9ac-5dc79e27e39b"
      },
      "source": [
        "train_t"
      ],
      "execution_count": 10,
      "outputs": [
        {
          "output_type": "execute_result",
          "data": {
            "text/plain": [
              "array([[ 5.2],\n",
              "       [ 5.7],\n",
              "       [ 6.7],\n",
              "       [ 8.9],\n",
              "       [13.2],\n",
              "       [15.3],\n",
              "       [20.5],\n",
              "       [29.2],\n",
              "       [20. ],\n",
              "       [19.2],\n",
              "       [10.2],\n",
              "       [ 9. ]])"
            ]
          },
          "metadata": {},
          "execution_count": 10
        }
      ]
    },
    {
      "cell_type": "code",
      "metadata": {
        "colab": {
          "base_uri": "https://localhost:8080/"
        },
        "id": "6r-qkZC4O0lR",
        "outputId": "4fa58c4a-cd1c-43b9-834f-b5c367f13716"
      },
      "source": [
        "train_x"
      ],
      "execution_count": 11,
      "outputs": [
        {
          "output_type": "execute_result",
          "data": {
            "text/plain": [
              "array([[    1,     1,     1,     1],\n",
              "       [    2,     4,     8,    16],\n",
              "       [    3,     9,    27,    81],\n",
              "       [    4,    16,    64,   256],\n",
              "       [    5,    25,   125,   625],\n",
              "       [    6,    36,   216,  1296],\n",
              "       [    7,    49,   343,  2401],\n",
              "       [    8,    64,   512,  4096],\n",
              "       [    9,    81,   729,  6561],\n",
              "       [   10,   100,  1000, 10000],\n",
              "       [   11,   121,  1331, 14641],\n",
              "       [   12,   144,  1728, 20736]])"
            ]
          },
          "metadata": {},
          "execution_count": 11
        }
      ]
    },
    {
      "cell_type": "markdown",
      "metadata": {
        "id": "CRodAeMOPR01"
      },
      "source": [
        "## 予測値を計算する式を定義する"
      ]
    },
    {
      "cell_type": "code",
      "metadata": {
        "colab": {
          "base_uri": "https://localhost:8080/"
        },
        "id": "XFpOYSK1O27n",
        "outputId": "79ff2473-f67f-4ef9-c2f1-3212711bef5c"
      },
      "source": [
        "model = models.Sequential()\n",
        "model.add(layers.Dense(1, input_shape=(4, ), name='polynomial'))\n",
        "model.summary()"
      ],
      "execution_count": 12,
      "outputs": [
        {
          "output_type": "stream",
          "name": "stdout",
          "text": [
            "Model: \"sequential\"\n",
            "_________________________________________________________________\n",
            "Layer (type)                 Output Shape              Param #   \n",
            "=================================================================\n",
            "polynomial (Dense)           (None, 1)                 5         \n",
            "=================================================================\n",
            "Total params: 5\n",
            "Trainable params: 5\n",
            "Non-trainable params: 0\n",
            "_________________________________________________________________\n"
          ]
        }
      ]
    },
    {
      "cell_type": "markdown",
      "metadata": {
        "id": "khK07mJ_PtR9"
      },
      "source": [
        "`models.Sequential()`でニューラルネットワークのモデルを定義しています。それに対して`.add()`を使用することで層を積み上げることができます。\n",
        "\n",
        "`layers.Dense`は全結合層を表しています。引数の一つ目の'1'はノード数を表しています。このモデルを式に表すと下記になります。"
      ]
    },
    {
      "cell_type": "markdown",
      "metadata": {
        "id": "4VG87F55Rv5K"
      },
      "source": [
        "※後でノードの図形を書き足したい\n",
        "\n",
        "$$\n",
        "y = w_{1}x_{1} + w_{2}x_{2} + w_{3}x_{3} + w_{4}x_{4} + b\n",
        "$$"
      ]
    },
    {
      "cell_type": "markdown",
      "metadata": {
        "id": "jtMwK7w7SBj0"
      },
      "source": [
        "この式では入力値は\n",
        "\n",
        "$$(x_{1}, x_{2}, x_{3}, x_{4})$$\n",
        "\n",
        "の4つの数字となっていますが、これは`layers.Dense`の２番目の引数である`input_shape=(4, ),`と対応しています。ノードに対する入力は一般的には多次元のリストになるのでこのオプションはタプルで入力を行う必要があります。\n",
        "\n",
        "(4)はタプルとはみなされないので、(4, )と書きます。\n",
        "\n",
        "`name='polynomial'`は層の名前を設定しています。\n",
        "\n",
        "`model.summary()`でネットワークの構成を見入ることができます。\n",
        "\n",
        "Layer (type) に設定した名前であるpolynomialが存在しています。Output Shapeにはこの層から出力されるリストの形状が記載されています。Noneとあるのは複数の組みのデータが入力された時はそれと同様の組みを出力されるという意味です。\n",
        "\n",
        "Param #には調整すべきパラメータの数が記載されています。この例で言うと下記となります。\n",
        "\n",
        "$$(x_{1}, x_{2}, x_{3}, x_{4}), b$$\n",
        "\n",
        "これらはLow-level APIで言うVariableに対応しています。\n",
        "\n",
        "Kerasではレイヤーの構成を行うことで自動的にVariableを定義することができます。"
      ]
    },
    {
      "cell_type": "markdown",
      "metadata": {
        "id": "wDsvEAHcUiW8"
      },
      "source": [
        "## 誤差関数を定義する"
      ]
    },
    {
      "cell_type": "code",
      "metadata": {
        "id": "WEbjFMgePoCU"
      },
      "source": [
        "model.compile(optimizer='adam', loss='mse')"
      ],
      "execution_count": 13,
      "outputs": []
    },
    {
      "cell_type": "markdown",
      "metadata": {
        "id": "gkefgCOpVG2z"
      },
      "source": [
        "`compile()`を用いることで誤差関数と最適化アルゴリズムを同時に指定しています。\n",
        "\n",
        "`optimizer=`では最適化アルゴリズムを指定しています。`loss=`では誤差関数を指定しています"
      ]
    },
    {
      "cell_type": "markdown",
      "metadata": {
        "id": "0L5nNNuCVxKs"
      },
      "source": [
        "## 学習処理"
      ]
    },
    {
      "cell_type": "code",
      "metadata": {
        "colab": {
          "base_uri": "https://localhost:8080/"
        },
        "id": "KtM0NBlXVDjy",
        "outputId": "9df25b4a-c378-4f85-a18e-60afa9d4d97d"
      },
      "source": [
        "history = model.fit(train_x, train_t, batch_size=12, epochs=10)"
      ],
      "execution_count": 14,
      "outputs": [
        {
          "output_type": "stream",
          "name": "stdout",
          "text": [
            "Epoch 1/10\n",
            "1/1 [==============================] - 0s 477ms/step - loss: 10953838.0000\n",
            "Epoch 2/10\n",
            "1/1 [==============================] - 0s 5ms/step - loss: 10894044.0000\n",
            "Epoch 3/10\n",
            "1/1 [==============================] - 0s 5ms/step - loss: 10834415.0000\n",
            "Epoch 4/10\n",
            "1/1 [==============================] - 0s 3ms/step - loss: 10774960.0000\n",
            "Epoch 5/10\n",
            "1/1 [==============================] - 0s 3ms/step - loss: 10715676.0000\n",
            "Epoch 6/10\n",
            "1/1 [==============================] - 0s 4ms/step - loss: 10656570.0000\n",
            "Epoch 7/10\n",
            "1/1 [==============================] - 0s 4ms/step - loss: 10597643.0000\n",
            "Epoch 8/10\n",
            "1/1 [==============================] - 0s 4ms/step - loss: 10538896.0000\n",
            "Epoch 9/10\n",
            "1/1 [==============================] - 0s 9ms/step - loss: 10480334.0000\n",
            "Epoch 10/10\n",
            "1/1 [==============================] - 0s 5ms/step - loss: 10421959.0000\n"
          ]
        }
      ]
    },
    {
      "cell_type": "markdown",
      "metadata": {
        "id": "YshQNcAgWG68"
      },
      "source": [
        "`fit()`の初めの２つのオプションには学習データと正解ラベルを与えています。\n",
        "\n",
        "`epochs=`ではパラメータの更新回数を表しています。学習が進むごとに誤差関数の結果が減っているのが分かります。"
      ]
    },
    {
      "cell_type": "code",
      "metadata": {
        "id": "DAfEzfSrV7F-"
      },
      "source": [
        "history = model.fit(train_x, train_t, batch_size=12, epochs=100000, verbose=0)"
      ],
      "execution_count": 15,
      "outputs": []
    },
    {
      "cell_type": "markdown",
      "metadata": {
        "id": "kWmq_chEYeId"
      },
      "source": [
        "`verbose=`は中間結果の表示を抑制する設定です。\n",
        "\n",
        "lossの結果を表示すると下記になります。`xlim=(0, 2000)`を設定することで2000回目のエポックまでの結果を出力しています"
      ]
    },
    {
      "cell_type": "code",
      "metadata": {
        "colab": {
          "base_uri": "https://localhost:8080/",
          "height": 293
        },
        "id": "ivXBniSuWuZQ",
        "outputId": "ab8753e4-e364-4791-9a49-8b2f6e5d0d37"
      },
      "source": [
        "DataFrame({'loss': history.history['loss']}).plot(xlim=(0, 2000))"
      ],
      "execution_count": 17,
      "outputs": [
        {
          "output_type": "execute_result",
          "data": {
            "text/plain": [
              "<matplotlib.axes._subplots.AxesSubplot at 0x7f4532556790>"
            ]
          },
          "metadata": {},
          "execution_count": 17
        },
        {
          "output_type": "display_data",
          "data": {
            "image/png": "[encoded data removed]",
            "text/plain": [
              "<Figure size 432x288 with 1 Axes>"
            ]
          },
          "metadata": {
            "needs_background": "light"
          }
        }
      ]
    },
    {
      "cell_type": "markdown",
      "metadata": {
        "id": "BBubCs7UbHnW"
      },
      "source": [
        "## 評価"
      ]
    },
    {
      "cell_type": "code",
      "metadata": {
        "colab": {
          "base_uri": "https://localhost:8080/"
        },
        "id": "bZZCEuXeYX0P",
        "outputId": "c03573f7-2271-4782-9fbf-523e174397f5"
      },
      "source": [
        "model.get_weights()"
      ],
      "execution_count": 19,
      "outputs": [
        {
          "output_type": "execute_result",
          "data": {
            "text/plain": [
              "[array([[-1.9535834e+00],\n",
              "        [ 1.1182474e+00],\n",
              "        [-7.1268976e-02],\n",
              "        [-6.3668034e-04]], dtype=float32), array([5.0752053], dtype=float32)]"
            ]
          },
          "metadata": {},
          "execution_count": 19
        }
      ]
    },
    {
      "cell_type": "markdown",
      "metadata": {
        "id": "SZbhYRTGbP46"
      },
      "source": [
        "調整後のパラメータの値を確認します。１つ目のarrayオブジェクトにw、2つ目のarrayオブジェクトにbのパラメータを保持しています"
      ]
    },
    {
      "cell_type": "code",
      "metadata": {
        "id": "2L1FMM6OZ8dB"
      },
      "source": [
        "w, b = model.get_weights()\n",
        "def predict(x):\n",
        "  pred = b[0] + sum(w[n][0] * x**(n+1) for n in range(0, 4))\n",
        "  return pred"
      ],
      "execution_count": 23,
      "outputs": []
    },
    {
      "cell_type": "code",
      "metadata": {
        "colab": {
          "base_uri": "https://localhost:8080/",
          "height": 283
        },
        "id": "8WrjtLqfbmOy",
        "outputId": "6f0ea405-7741-4b9c-8c54-3e7159b9008e"
      },
      "source": [
        "fig = plt.figure()\n",
        "subplot = fig.add_subplot(1, 1, 1)\n",
        "subplot.set_xlim(1, 12)\n",
        "subplot.scatter(range(1, 13), train_t)\n",
        "xs = np.linspace(1, 12, 100)\n",
        "ys = predict(xs)\n",
        "subplot.plot(xs, ys)"
      ],
      "execution_count": 24,
      "outputs": [
        {
          "output_type": "execute_result",
          "data": {
            "text/plain": [
              "[<matplotlib.lines.Line2D at 0x7f4531eeca10>]"
            ]
          },
          "metadata": {},
          "execution_count": 24
        },
        {
          "output_type": "display_data",
          "data": {
            "image/png": "[encoded data removed]",
            "text/plain": [
              "<Figure size 432x288 with 1 Axes>"
            ]
          },
          "metadata": {
            "needs_background": "light"
          }
        }
      ]
    },
    {
      "cell_type": "code",
      "metadata": {
        "id": "5iY96cYib20h"
      },
      "source": [
        ""
      ],
      "execution_count": null,
      "outputs": []
    }
  ]
}