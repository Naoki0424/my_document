{
  "nbformat": 4,
  "nbformat_minor": 0,
  "metadata": {
    "colab": {
      "name": "20211112_定期実行.ipynb",
      "provenance": [],
      "collapsed_sections": [],
      "authorship_tag": "ABX9TyM2GBnJoFh2CT2XaPTsF87L",
      "include_colab_link": true
    },
    "kernelspec": {
      "name": "python3",
      "display_name": "Python 3"
    },
    "language_info": {
      "name": "python"
    }
  },
  "cells": [
    {
      "cell_type": "markdown",
      "metadata": {
        "id": "view-in-github",
        "colab_type": "text"
      },
      "source": [
        "<a href=\"https://colab.research.google.com/github/Naoki0424/my_document/blob/main/20211112_%E5%AE%9A%E6%9C%9F%E5%AE%9F%E8%A1%8C.ipynb\" target=\"_parent\"><img src=\"https://colab.research.google.com/assets/colab-badge.svg\" alt=\"Open In Colab\"/></a>"
      ]
    },
    {
      "cell_type": "markdown",
      "metadata": {
        "id": "WjwTP-FKjQv5"
      },
      "source": [
        "# 指定したチャンネルの登録者数推移を計測するスクリプト"
      ]
    },
    {
      "cell_type": "markdown",
      "metadata": {
        "id": "vThk2-s0jWsB"
      },
      "source": [
        "## 事前準備"
      ]
    },
    {
      "cell_type": "code",
      "metadata": {
        "id": "I620F80aiegv"
      },
      "source": [
        "from apiclient.discovery import build\n",
        "from apiclient.errors import HttpError\n",
        "import pandas as pd\n",
        "from google.colab import drive"
      ],
      "execution_count": null,
      "outputs": []
    },
    {
      "cell_type": "code",
      "metadata": {
        "id": "mESD2-JllAuW"
      },
      "source": [
        "# Youtube data api を利用する上での情報を定義する\n",
        "DEVELOPER_KEY = ''\n",
        "YOUTUBE_API_SERVICE_NAME = 'youtube'\n",
        "YOUTUBE_API_VERSION = 'v3'\n",
        " \n",
        "youtube = build(\n",
        "    YOUTUBE_API_SERVICE_NAME, \n",
        "    YOUTUBE_API_VERSION,\n",
        "    developerKey=DEVELOPER_KEY\n",
        "    )"
      ],
      "execution_count": null,
      "outputs": []
    },
    {
      "cell_type": "code",
      "metadata": {
        "colab": {
          "base_uri": "https://localhost:8080/"
        },
        "id": "7BYhqF4NjfYG",
        "outputId": "1eae6076-3a52-45ed-c116-4da958d02d16"
      },
      "source": [
        "# ドライブのマウント\n",
        "drive.mount('/content/gdrive')"
      ],
      "execution_count": null,
      "outputs": [
        {
          "output_type": "stream",
          "name": "stdout",
          "text": [
            "Drive already mounted at /content/gdrive; to attempt to forcibly remount, call drive.mount(\"/content/gdrive\", force_remount=True).\n"
          ]
        }
      ]
    },
    {
      "cell_type": "code",
      "metadata": {
        "id": "jnlCYfIxjs06"
      },
      "source": [
        "# CSV読み込み\n",
        "main_csv = pd.read_csv('/content/gdrive/My Drive/Colab Notebooks/work/data/youtube_chanel - youtube_chanel.csv')"
      ],
      "execution_count": null,
      "outputs": []
    },
    {
      "cell_type": "code",
      "metadata": {
        "colab": {
          "base_uri": "https://localhost:8080/",
          "height": 414
        },
        "id": "Y1HG0U7_kEUw",
        "outputId": "cc59b844-6d16-4062-b796-163541848c85"
      },
      "source": [
        "main_csv"
      ],
      "execution_count": null,
      "outputs": [
        {
          "output_type": "execute_result",
          "data": {
            "text/html": [
              "<div>\n",
              "<style scoped>\n",
              "    .dataframe tbody tr th:only-of-type {\n",
              "        vertical-align: middle;\n",
              "    }\n",
              "\n",
              "    .dataframe tbody tr th {\n",
              "        vertical-align: top;\n",
              "    }\n",
              "\n",
              "    .dataframe thead th {\n",
              "        text-align: right;\n",
              "    }\n",
              "</style>\n",
              "<table border=\"1\" class=\"dataframe\">\n",
              "  <thead>\n",
              "    <tr style=\"text-align: right;\">\n",
              "      <th></th>\n",
              "      <th>チャンネルID</th>\n",
              "      <th>チャンネル名</th>\n",
              "      <th>開始日</th>\n",
              "      <th>投稿本数\\n（2021/11/13）</th>\n",
              "      <th>チャンネル登録者数\\n（2021/11/13）</th>\n",
              "    </tr>\n",
              "  </thead>\n",
              "  <tbody>\n",
              "    <tr>\n",
              "      <th>0</th>\n",
              "      <td>UC67Wr_9pA4I0glIxDt_Cpyw</td>\n",
              "      <td>両学長 リベラルアーツ大学</td>\n",
              "      <td>2018-10-05</td>\n",
              "      <td>1197</td>\n",
              "      <td>1610000</td>\n",
              "    </tr>\n",
              "    <tr>\n",
              "      <th>1</th>\n",
              "      <td>UCWdFb_w3JI1BPTiBCXERg2Q</td>\n",
              "      <td>AK in カナダ｜AK-English</td>\n",
              "      <td>2016-05-11</td>\n",
              "      <td>148</td>\n",
              "      <td>544000</td>\n",
              "    </tr>\n",
              "    <tr>\n",
              "      <th>2</th>\n",
              "      <td>UCfMIdADo6FQayQCOkLYGhrQ</td>\n",
              "      <td>JAXA | 宇宙航空研究開発機構</td>\n",
              "      <td>2009-02-27</td>\n",
              "      <td>1852</td>\n",
              "      <td>299000</td>\n",
              "    </tr>\n",
              "    <tr>\n",
              "      <th>3</th>\n",
              "      <td>UC4zNRgdhLb7wczrMcfdrsVQ</td>\n",
              "      <td>JIN [仁]</td>\n",
              "      <td>2012-11-27</td>\n",
              "      <td>1241</td>\n",
              "      <td>273000</td>\n",
              "    </tr>\n",
              "    <tr>\n",
              "      <th>4</th>\n",
              "      <td>UCw3RCydc5_K74047gunkeaw</td>\n",
              "      <td>れのれらTV / RenoRera TV</td>\n",
              "      <td>2015-02-21</td>\n",
              "      <td>1787</td>\n",
              "      <td>176000</td>\n",
              "    </tr>\n",
              "    <tr>\n",
              "      <th>...</th>\n",
              "      <td>...</td>\n",
              "      <td>...</td>\n",
              "      <td>...</td>\n",
              "      <td>...</td>\n",
              "      <td>...</td>\n",
              "    </tr>\n",
              "    <tr>\n",
              "      <th>223</th>\n",
              "      <td>UCkxwe9vIUgINTNx0IVBvjfQ</td>\n",
              "      <td>れん Vlog</td>\n",
              "      <td>2021-10-25</td>\n",
              "      <td>2</td>\n",
              "      <td>0</td>\n",
              "    </tr>\n",
              "    <tr>\n",
              "      <th>224</th>\n",
              "      <td>UC1WU0XTfP5FsP5kKCBKAX0Q</td>\n",
              "      <td>マサ 勉強vlog</td>\n",
              "      <td>2020-10-02</td>\n",
              "      <td>1</td>\n",
              "      <td>0</td>\n",
              "    </tr>\n",
              "    <tr>\n",
              "      <th>225</th>\n",
              "      <td>UC8UO4zHS-fLGkfJ5pVghFyQ</td>\n",
              "      <td>sun vlog</td>\n",
              "      <td>2021-02-24</td>\n",
              "      <td>1</td>\n",
              "      <td>0</td>\n",
              "    </tr>\n",
              "    <tr>\n",
              "      <th>226</th>\n",
              "      <td>UC4PxPGdB-JjIrRf88Dx6JEA</td>\n",
              "      <td>あやま　ブログ</td>\n",
              "      <td>2021-08-07</td>\n",
              "      <td>3</td>\n",
              "      <td>0</td>\n",
              "    </tr>\n",
              "    <tr>\n",
              "      <th>227</th>\n",
              "      <td>UCAUnMmula32dW5WdriDqNuw</td>\n",
              "      <td>イスタ</td>\n",
              "      <td>2021-09-14</td>\n",
              "      <td>1</td>\n",
              "      <td>0</td>\n",
              "    </tr>\n",
              "  </tbody>\n",
              "</table>\n",
              "<p>228 rows × 5 columns</p>\n",
              "</div>"
            ],
            "text/plain": [
              "                      チャンネルID  ... チャンネル登録者数\\n（2021/11/13）\n",
              "0    UC67Wr_9pA4I0glIxDt_Cpyw  ...                 1610000\n",
              "1    UCWdFb_w3JI1BPTiBCXERg2Q  ...                  544000\n",
              "2    UCfMIdADo6FQayQCOkLYGhrQ  ...                  299000\n",
              "3    UC4zNRgdhLb7wczrMcfdrsVQ  ...                  273000\n",
              "4    UCw3RCydc5_K74047gunkeaw  ...                  176000\n",
              "..                        ...  ...                     ...\n",
              "223  UCkxwe9vIUgINTNx0IVBvjfQ  ...                       0\n",
              "224  UC1WU0XTfP5FsP5kKCBKAX0Q  ...                       0\n",
              "225  UC8UO4zHS-fLGkfJ5pVghFyQ  ...                       0\n",
              "226  UC4PxPGdB-JjIrRf88Dx6JEA  ...                       0\n",
              "227  UCAUnMmula32dW5WdriDqNuw  ...                       0\n",
              "\n",
              "[228 rows x 5 columns]"
            ]
          },
          "metadata": {},
          "execution_count": 29
        }
      ]
    },
    {
      "cell_type": "markdown",
      "metadata": {
        "id": "inpymVMyk4V4"
      },
      "source": [
        "## 情報取得"
      ]
    },
    {
      "cell_type": "code",
      "metadata": {
        "id": "mAdbLapDkFzT"
      },
      "source": [
        "# 対象のチャンネルの詳細情報を取得する\n",
        "def get_video_detail(channel_id):\n",
        "    search_response = youtube.channels().list(\n",
        "        part='snippet,statistics',\n",
        "        id=channel_id,\n",
        "        maxResults=50\n",
        "    ).execute()\n",
        "\n",
        "    return search_response"
      ],
      "execution_count": null,
      "outputs": []
    },
    {
      "cell_type": "code",
      "metadata": {
        "id": "S40qExaLlH3_"
      },
      "source": [
        "# 読み込んだCSVから詳細情報を取得する\n",
        "video_detail = []\n",
        "\n",
        "for i in range(len(main_csv)):\n",
        "  video_detail = video_detail + get_video_detail(main_csv.iloc[i][0])['items']"
      ],
      "execution_count": null,
      "outputs": []
    },
    {
      "cell_type": "code",
      "metadata": {
        "colab": {
          "base_uri": "https://localhost:8080/"
        },
        "id": "xpkqfVUo40Ad",
        "outputId": "2014a3df-08cb-44b3-a64e-3c111da09369"
      },
      "source": [
        "import datetime\n",
        "\n",
        "now = datetime.datetime.now()\n",
        "now = now.strftime(\"%Y/%m/%d\")\n",
        "print(now)"
      ],
      "execution_count": null,
      "outputs": [
        {
          "output_type": "stream",
          "name": "stdout",
          "text": [
            "2021/11/13\n"
          ]
        }
      ]
    },
    {
      "cell_type": "code",
      "metadata": {
        "colab": {
          "base_uri": "https://localhost:8080/"
        },
        "id": "H1DdMh6hmTNr",
        "outputId": "5b98da69-623f-41ac-f4a4-848d2c5835b7"
      },
      "source": [
        "list = []\n",
        "\n",
        "column1 = '投稿本数({})'.format(now)\n",
        "column2 = 'チャンネル登録者数({})'.format(now)\n",
        "\n",
        "print(len(video_detail))\n",
        "for result in video_detail:\n",
        "  list.append({column1: result['statistics']['videoCount'], column2: result['statistics']['subscriberCount']})\n",
        "\n",
        "df = pd.DataFrame(list)"
      ],
      "execution_count": null,
      "outputs": [
        {
          "output_type": "stream",
          "name": "stdout",
          "text": [
            "228\n"
          ]
        }
      ]
    },
    {
      "cell_type": "code",
      "metadata": {
        "id": "RrMyzrSlmk1r",
        "colab": {
          "base_uri": "https://localhost:8080/",
          "height": 202
        },
        "outputId": "9e74fc8d-3cbc-48f3-b10d-9390f9200b84"
      },
      "source": [
        "df.head()"
      ],
      "execution_count": null,
      "outputs": [
        {
          "output_type": "execute_result",
          "data": {
            "text/html": [
              "<div>\n",
              "<style scoped>\n",
              "    .dataframe tbody tr th:only-of-type {\n",
              "        vertical-align: middle;\n",
              "    }\n",
              "\n",
              "    .dataframe tbody tr th {\n",
              "        vertical-align: top;\n",
              "    }\n",
              "\n",
              "    .dataframe thead th {\n",
              "        text-align: right;\n",
              "    }\n",
              "</style>\n",
              "<table border=\"1\" class=\"dataframe\">\n",
              "  <thead>\n",
              "    <tr style=\"text-align: right;\">\n",
              "      <th></th>\n",
              "      <th>投稿本数(2021/11/13)</th>\n",
              "      <th>チャンネル登録者数(2021/11/13)</th>\n",
              "    </tr>\n",
              "  </thead>\n",
              "  <tbody>\n",
              "    <tr>\n",
              "      <th>0</th>\n",
              "      <td>1197</td>\n",
              "      <td>1610000</td>\n",
              "    </tr>\n",
              "    <tr>\n",
              "      <th>1</th>\n",
              "      <td>148</td>\n",
              "      <td>544000</td>\n",
              "    </tr>\n",
              "    <tr>\n",
              "      <th>2</th>\n",
              "      <td>1852</td>\n",
              "      <td>299000</td>\n",
              "    </tr>\n",
              "    <tr>\n",
              "      <th>3</th>\n",
              "      <td>1241</td>\n",
              "      <td>273000</td>\n",
              "    </tr>\n",
              "    <tr>\n",
              "      <th>4</th>\n",
              "      <td>1787</td>\n",
              "      <td>176000</td>\n",
              "    </tr>\n",
              "  </tbody>\n",
              "</table>\n",
              "</div>"
            ],
            "text/plain": [
              "  投稿本数(2021/11/13) チャンネル登録者数(2021/11/13)\n",
              "0             1197               1610000\n",
              "1              148                544000\n",
              "2             1852                299000\n",
              "3             1241                273000\n",
              "4             1787                176000"
            ]
          },
          "metadata": {},
          "execution_count": 36
        }
      ]
    },
    {
      "cell_type": "code",
      "metadata": {
        "id": "a_PwsJX46Ejz",
        "colab": {
          "base_uri": "https://localhost:8080/",
          "height": 597
        },
        "outputId": "fbc09da6-0343-446d-ab81-e27c91d96fb5"
      },
      "source": [
        "pd.concat([main_csv, df], axis=1)"
      ],
      "execution_count": null,
      "outputs": [
        {
          "output_type": "execute_result",
          "data": {
            "text/html": [
              "<div>\n",
              "<style scoped>\n",
              "    .dataframe tbody tr th:only-of-type {\n",
              "        vertical-align: middle;\n",
              "    }\n",
              "\n",
              "    .dataframe tbody tr th {\n",
              "        vertical-align: top;\n",
              "    }\n",
              "\n",
              "    .dataframe thead th {\n",
              "        text-align: right;\n",
              "    }\n",
              "</style>\n",
              "<table border=\"1\" class=\"dataframe\">\n",
              "  <thead>\n",
              "    <tr style=\"text-align: right;\">\n",
              "      <th></th>\n",
              "      <th>チャンネルID</th>\n",
              "      <th>チャンネル名</th>\n",
              "      <th>開始日</th>\n",
              "      <th>投稿本数\\n（2021/11/13）</th>\n",
              "      <th>チャンネル登録者数\\n（2021/11/13）</th>\n",
              "      <th>投稿本数(2021/11/13)</th>\n",
              "      <th>チャンネル登録者数(2021/11/13)</th>\n",
              "    </tr>\n",
              "  </thead>\n",
              "  <tbody>\n",
              "    <tr>\n",
              "      <th>0</th>\n",
              "      <td>UC67Wr_9pA4I0glIxDt_Cpyw</td>\n",
              "      <td>両学長 リベラルアーツ大学</td>\n",
              "      <td>2018-10-05</td>\n",
              "      <td>1197</td>\n",
              "      <td>1610000</td>\n",
              "      <td>1197</td>\n",
              "      <td>1610000</td>\n",
              "    </tr>\n",
              "    <tr>\n",
              "      <th>1</th>\n",
              "      <td>UCWdFb_w3JI1BPTiBCXERg2Q</td>\n",
              "      <td>AK in カナダ｜AK-English</td>\n",
              "      <td>2016-05-11</td>\n",
              "      <td>148</td>\n",
              "      <td>544000</td>\n",
              "      <td>148</td>\n",
              "      <td>544000</td>\n",
              "    </tr>\n",
              "    <tr>\n",
              "      <th>2</th>\n",
              "      <td>UCfMIdADo6FQayQCOkLYGhrQ</td>\n",
              "      <td>JAXA | 宇宙航空研究開発機構</td>\n",
              "      <td>2009-02-27</td>\n",
              "      <td>1852</td>\n",
              "      <td>299000</td>\n",
              "      <td>1852</td>\n",
              "      <td>299000</td>\n",
              "    </tr>\n",
              "    <tr>\n",
              "      <th>3</th>\n",
              "      <td>UC4zNRgdhLb7wczrMcfdrsVQ</td>\n",
              "      <td>JIN [仁]</td>\n",
              "      <td>2012-11-27</td>\n",
              "      <td>1241</td>\n",
              "      <td>273000</td>\n",
              "      <td>1241</td>\n",
              "      <td>273000</td>\n",
              "    </tr>\n",
              "    <tr>\n",
              "      <th>4</th>\n",
              "      <td>UCw3RCydc5_K74047gunkeaw</td>\n",
              "      <td>れのれらTV / RenoRera TV</td>\n",
              "      <td>2015-02-21</td>\n",
              "      <td>1787</td>\n",
              "      <td>176000</td>\n",
              "      <td>1787</td>\n",
              "      <td>176000</td>\n",
              "    </tr>\n",
              "    <tr>\n",
              "      <th>...</th>\n",
              "      <td>...</td>\n",
              "      <td>...</td>\n",
              "      <td>...</td>\n",
              "      <td>...</td>\n",
              "      <td>...</td>\n",
              "      <td>...</td>\n",
              "      <td>...</td>\n",
              "    </tr>\n",
              "    <tr>\n",
              "      <th>223</th>\n",
              "      <td>UCkxwe9vIUgINTNx0IVBvjfQ</td>\n",
              "      <td>れん Vlog</td>\n",
              "      <td>2021-10-25</td>\n",
              "      <td>2</td>\n",
              "      <td>0</td>\n",
              "      <td>2</td>\n",
              "      <td>0</td>\n",
              "    </tr>\n",
              "    <tr>\n",
              "      <th>224</th>\n",
              "      <td>UC1WU0XTfP5FsP5kKCBKAX0Q</td>\n",
              "      <td>マサ 勉強vlog</td>\n",
              "      <td>2020-10-02</td>\n",
              "      <td>1</td>\n",
              "      <td>0</td>\n",
              "      <td>1</td>\n",
              "      <td>0</td>\n",
              "    </tr>\n",
              "    <tr>\n",
              "      <th>225</th>\n",
              "      <td>UC8UO4zHS-fLGkfJ5pVghFyQ</td>\n",
              "      <td>sun vlog</td>\n",
              "      <td>2021-02-24</td>\n",
              "      <td>1</td>\n",
              "      <td>0</td>\n",
              "      <td>1</td>\n",
              "      <td>0</td>\n",
              "    </tr>\n",
              "    <tr>\n",
              "      <th>226</th>\n",
              "      <td>UC4PxPGdB-JjIrRf88Dx6JEA</td>\n",
              "      <td>あやま　ブログ</td>\n",
              "      <td>2021-08-07</td>\n",
              "      <td>3</td>\n",
              "      <td>0</td>\n",
              "      <td>3</td>\n",
              "      <td>0</td>\n",
              "    </tr>\n",
              "    <tr>\n",
              "      <th>227</th>\n",
              "      <td>UCAUnMmula32dW5WdriDqNuw</td>\n",
              "      <td>イスタ</td>\n",
              "      <td>2021-09-14</td>\n",
              "      <td>1</td>\n",
              "      <td>0</td>\n",
              "      <td>1</td>\n",
              "      <td>0</td>\n",
              "    </tr>\n",
              "  </tbody>\n",
              "</table>\n",
              "<p>228 rows × 7 columns</p>\n",
              "</div>"
            ],
            "text/plain": [
              "                      チャンネルID  ... チャンネル登録者数(2021/11/13)\n",
              "0    UC67Wr_9pA4I0glIxDt_Cpyw  ...               1610000\n",
              "1    UCWdFb_w3JI1BPTiBCXERg2Q  ...                544000\n",
              "2    UCfMIdADo6FQayQCOkLYGhrQ  ...                299000\n",
              "3    UC4zNRgdhLb7wczrMcfdrsVQ  ...                273000\n",
              "4    UCw3RCydc5_K74047gunkeaw  ...                176000\n",
              "..                        ...  ...                   ...\n",
              "223  UCkxwe9vIUgINTNx0IVBvjfQ  ...                     0\n",
              "224  UC1WU0XTfP5FsP5kKCBKAX0Q  ...                     0\n",
              "225  UC8UO4zHS-fLGkfJ5pVghFyQ  ...                     0\n",
              "226  UC4PxPGdB-JjIrRf88Dx6JEA  ...                     0\n",
              "227  UCAUnMmula32dW5WdriDqNuw  ...                     0\n",
              "\n",
              "[228 rows x 7 columns]"
            ]
          },
          "metadata": {},
          "execution_count": 37
        }
      ]
    },
    {
      "cell_type": "code",
      "metadata": {
        "colab": {
          "base_uri": "https://localhost:8080/",
          "height": 165
        },
        "id": "Vm2cM2Nh8JXx",
        "outputId": "154d65b5-2a00-4655-f02c-764c2f6eeecc"
      },
      "source": [
        "result.to_csv('/content/gdrive/My Drive/Colab Notebooks/work/data/youtube_chanel - youtube_chanel.csv')"
      ],
      "execution_count": null,
      "outputs": [
        {
          "output_type": "error",
          "ename": "AttributeError",
          "evalue": "ignored",
          "traceback": [
            "\u001b[0;31m---------------------------------------------------------------------------\u001b[0m",
            "\u001b[0;31mAttributeError\u001b[0m                            Traceback (most recent call last)",
            "\u001b[0;32m<ipython-input-38-92fd01e6f8e5>\u001b[0m in \u001b[0;36m<module>\u001b[0;34m()\u001b[0m\n\u001b[0;32m----> 1\u001b[0;31m \u001b[0mresult\u001b[0m\u001b[0;34m.\u001b[0m\u001b[0mto_csv\u001b[0m\u001b[0;34m(\u001b[0m\u001b[0;34m'/content/gdrive/My Drive/Colab Notebooks/work/data/youtube_chanel - youtube_chanel.csv'\u001b[0m\u001b[0;34m)\u001b[0m\u001b[0;34m\u001b[0m\u001b[0;34m\u001b[0m\u001b[0m\n\u001b[0m",
            "\u001b[0;31mAttributeError\u001b[0m: 'dict' object has no attribute 'to_csv'"
          ]
        }
      ]
    },
    {
      "cell_type": "code",
      "metadata": {
        "id": "_mj0uZo38k62"
      },
      "source": [
        ""
      ],
      "execution_count": null,
      "outputs": []
    }
  ]
}