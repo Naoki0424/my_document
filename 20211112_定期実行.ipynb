{
  "nbformat": 4,
  "nbformat_minor": 0,
  "metadata": {
    "colab": {
      "name": "20211112_定期実行.ipynb",
      "provenance": [],
      "collapsed_sections": [],
      "authorship_tag": "ABX9TyO36BfVLxAno3rRFNAs9wBI",
      "include_colab_link": true
    },
    "kernelspec": {
      "name": "python3",
      "display_name": "Python 3"
    },
    "language_info": {
      "name": "python"
    }
  },
  "cells": [
    {
      "cell_type": "markdown",
      "metadata": {
        "id": "view-in-github",
        "colab_type": "text"
      },
      "source": [
        "<a href=\"https://colab.research.google.com/github/Naoki0424/my_document/blob/main/20211112_%E5%AE%9A%E6%9C%9F%E5%AE%9F%E8%A1%8C.ipynb\" target=\"_parent\"><img src=\"https://colab.research.google.com/assets/colab-badge.svg\" alt=\"Open In Colab\"/></a>"
      ]
    },
    {
      "cell_type": "markdown",
      "metadata": {
        "id": "WjwTP-FKjQv5"
      },
      "source": [
        "# 指定したチャンネルの登録者数推移を計測するスクリプト"
      ]
    },
    {
      "cell_type": "markdown",
      "metadata": {
        "id": "vThk2-s0jWsB"
      },
      "source": [
        "## 事前準備"
      ]
    },
    {
      "cell_type": "code",
      "metadata": {
        "id": "I620F80aiegv"
      },
      "source": [
        "from apiclient.discovery import build\n",
        "from apiclient.errors import HttpError\n",
        "import pandas as pd\n",
        "from google.colab import drive"
      ],
      "execution_count": 1,
      "outputs": []
    },
    {
      "cell_type": "code",
      "metadata": {
        "id": "mESD2-JllAuW"
      },
      "source": [
        "# Youtube data api を利用する上での情報を定義する\n",
        "DEVELOPER_KEY = ''\n",
        "YOUTUBE_API_SERVICE_NAME = 'youtube'\n",
        "YOUTUBE_API_VERSION = 'v3'\n",
        " \n",
        "youtube = build(\n",
        "    YOUTUBE_API_SERVICE_NAME, \n",
        "    YOUTUBE_API_VERSION,\n",
        "    developerKey=DEVELOPER_KEY\n",
        "    )"
      ],
      "execution_count": 2,
      "outputs": []
    },
    {
      "cell_type": "code",
      "metadata": {
        "colab": {
          "base_uri": "https://localhost:8080/"
        },
        "id": "7BYhqF4NjfYG",
        "outputId": "e110a61c-283d-4949-f114-852f0be79a71"
      },
      "source": [
        "# ドライブのマウント\n",
        "drive.mount('/content/gdrive')"
      ],
      "execution_count": 3,
      "outputs": [
        {
          "output_type": "stream",
          "name": "stdout",
          "text": [
            "Mounted at /content/gdrive\n"
          ]
        }
      ]
    },
    {
      "cell_type": "code",
      "metadata": {
        "id": "jnlCYfIxjs06"
      },
      "source": [
        "# CSV読み込み\n",
        "main_csv = pd.read_csv('/content/gdrive/My Drive/Colab Notebooks/work/data/youtube_chanel - youtube_chanel.csv')"
      ],
      "execution_count": 4,
      "outputs": []
    },
    {
      "cell_type": "code",
      "metadata": {
        "colab": {
          "base_uri": "https://localhost:8080/",
          "height": 597
        },
        "id": "Y1HG0U7_kEUw",
        "outputId": "bc03e117-0f23-4d1e-9c1b-62618f70f9aa"
      },
      "source": [
        "main_csv"
      ],
      "execution_count": 5,
      "outputs": [
        {
          "output_type": "execute_result",
          "data": {
            "text/html": [
              "<div>\n",
              "<style scoped>\n",
              "    .dataframe tbody tr th:only-of-type {\n",
              "        vertical-align: middle;\n",
              "    }\n",
              "\n",
              "    .dataframe tbody tr th {\n",
              "        vertical-align: top;\n",
              "    }\n",
              "\n",
              "    .dataframe thead th {\n",
              "        text-align: right;\n",
              "    }\n",
              "</style>\n",
              "<table border=\"1\" class=\"dataframe\">\n",
              "  <thead>\n",
              "    <tr style=\"text-align: right;\">\n",
              "      <th></th>\n",
              "      <th>Unnamed: 0</th>\n",
              "      <th>チャンネルID</th>\n",
              "      <th>チャンネル名</th>\n",
              "      <th>開始日</th>\n",
              "      <th>投稿本数(2021/11/13)</th>\n",
              "      <th>チャンネル登録者数(2021/11/13)</th>\n",
              "      <th>投稿本数(2021/11/14)</th>\n",
              "      <th>チャンネル登録者数(2021/11/14)</th>\n",
              "    </tr>\n",
              "  </thead>\n",
              "  <tbody>\n",
              "    <tr>\n",
              "      <th>0</th>\n",
              "      <td>0</td>\n",
              "      <td>UC67Wr_9pA4I0glIxDt_Cpyw</td>\n",
              "      <td>両学長 リベラルアーツ大学</td>\n",
              "      <td>2018-10-05</td>\n",
              "      <td>1197</td>\n",
              "      <td>1610000</td>\n",
              "      <td>1198</td>\n",
              "      <td>1610000</td>\n",
              "    </tr>\n",
              "    <tr>\n",
              "      <th>1</th>\n",
              "      <td>1</td>\n",
              "      <td>UCWdFb_w3JI1BPTiBCXERg2Q</td>\n",
              "      <td>AK in カナダ｜AK-English</td>\n",
              "      <td>2016-05-11</td>\n",
              "      <td>148</td>\n",
              "      <td>544000</td>\n",
              "      <td>148</td>\n",
              "      <td>544000</td>\n",
              "    </tr>\n",
              "    <tr>\n",
              "      <th>2</th>\n",
              "      <td>2</td>\n",
              "      <td>UCfMIdADo6FQayQCOkLYGhrQ</td>\n",
              "      <td>JAXA | 宇宙航空研究開発機構</td>\n",
              "      <td>2009-02-27</td>\n",
              "      <td>1852</td>\n",
              "      <td>299000</td>\n",
              "      <td>1852</td>\n",
              "      <td>299000</td>\n",
              "    </tr>\n",
              "    <tr>\n",
              "      <th>3</th>\n",
              "      <td>3</td>\n",
              "      <td>UC4zNRgdhLb7wczrMcfdrsVQ</td>\n",
              "      <td>JIN [仁]</td>\n",
              "      <td>2012-11-27</td>\n",
              "      <td>1241</td>\n",
              "      <td>273000</td>\n",
              "      <td>1242</td>\n",
              "      <td>274000</td>\n",
              "    </tr>\n",
              "    <tr>\n",
              "      <th>4</th>\n",
              "      <td>4</td>\n",
              "      <td>UCw3RCydc5_K74047gunkeaw</td>\n",
              "      <td>れのれらTV / RenoRera TV</td>\n",
              "      <td>2015-02-21</td>\n",
              "      <td>1787</td>\n",
              "      <td>176000</td>\n",
              "      <td>1788</td>\n",
              "      <td>176000</td>\n",
              "    </tr>\n",
              "    <tr>\n",
              "      <th>...</th>\n",
              "      <td>...</td>\n",
              "      <td>...</td>\n",
              "      <td>...</td>\n",
              "      <td>...</td>\n",
              "      <td>...</td>\n",
              "      <td>...</td>\n",
              "      <td>...</td>\n",
              "      <td>...</td>\n",
              "    </tr>\n",
              "    <tr>\n",
              "      <th>223</th>\n",
              "      <td>223</td>\n",
              "      <td>UCkxwe9vIUgINTNx0IVBvjfQ</td>\n",
              "      <td>れん Vlog</td>\n",
              "      <td>2021-10-25</td>\n",
              "      <td>2</td>\n",
              "      <td>0</td>\n",
              "      <td>2</td>\n",
              "      <td>0</td>\n",
              "    </tr>\n",
              "    <tr>\n",
              "      <th>224</th>\n",
              "      <td>224</td>\n",
              "      <td>UC1WU0XTfP5FsP5kKCBKAX0Q</td>\n",
              "      <td>マサ 勉強vlog</td>\n",
              "      <td>2020-10-02</td>\n",
              "      <td>1</td>\n",
              "      <td>0</td>\n",
              "      <td>1</td>\n",
              "      <td>0</td>\n",
              "    </tr>\n",
              "    <tr>\n",
              "      <th>225</th>\n",
              "      <td>225</td>\n",
              "      <td>UC8UO4zHS-fLGkfJ5pVghFyQ</td>\n",
              "      <td>sun vlog</td>\n",
              "      <td>2021-02-24</td>\n",
              "      <td>1</td>\n",
              "      <td>0</td>\n",
              "      <td>1</td>\n",
              "      <td>0</td>\n",
              "    </tr>\n",
              "    <tr>\n",
              "      <th>226</th>\n",
              "      <td>226</td>\n",
              "      <td>UC4PxPGdB-JjIrRf88Dx6JEA</td>\n",
              "      <td>あやま　ブログ</td>\n",
              "      <td>2021-08-07</td>\n",
              "      <td>3</td>\n",
              "      <td>0</td>\n",
              "      <td>3</td>\n",
              "      <td>0</td>\n",
              "    </tr>\n",
              "    <tr>\n",
              "      <th>227</th>\n",
              "      <td>227</td>\n",
              "      <td>UCAUnMmula32dW5WdriDqNuw</td>\n",
              "      <td>イスタ</td>\n",
              "      <td>2021-09-14</td>\n",
              "      <td>1</td>\n",
              "      <td>0</td>\n",
              "      <td>1</td>\n",
              "      <td>0</td>\n",
              "    </tr>\n",
              "  </tbody>\n",
              "</table>\n",
              "<p>228 rows × 8 columns</p>\n",
              "</div>"
            ],
            "text/plain": [
              "     Unnamed: 0  ... チャンネル登録者数(2021/11/14)\n",
              "0             0  ...               1610000\n",
              "1             1  ...                544000\n",
              "2             2  ...                299000\n",
              "3             3  ...                274000\n",
              "4             4  ...                176000\n",
              "..          ...  ...                   ...\n",
              "223         223  ...                     0\n",
              "224         224  ...                     0\n",
              "225         225  ...                     0\n",
              "226         226  ...                     0\n",
              "227         227  ...                     0\n",
              "\n",
              "[228 rows x 8 columns]"
            ]
          },
          "metadata": {},
          "execution_count": 5
        }
      ]
    },
    {
      "cell_type": "markdown",
      "metadata": {
        "id": "inpymVMyk4V4"
      },
      "source": [
        "## 情報取得"
      ]
    },
    {
      "cell_type": "code",
      "metadata": {
        "id": "mAdbLapDkFzT"
      },
      "source": [
        "# 対象のチャンネルの詳細情報を取得する\n",
        "def get_video_detail(channel_id):\n",
        "    search_response = youtube.channels().list(\n",
        "        part='snippet,statistics',\n",
        "        id=channel_id,\n",
        "        maxResults=50\n",
        "    ).execute()\n",
        "\n",
        "    return search_response"
      ],
      "execution_count": 6,
      "outputs": []
    },
    {
      "cell_type": "code",
      "metadata": {
        "id": "S40qExaLlH3_"
      },
      "source": [
        "# 読み込んだCSVから詳細情報を取得する\n",
        "video_detail = []\n",
        "\n",
        "for i in range(len(main_csv)):\n",
        "  video_detail = video_detail + get_video_detail(main_csv.iloc[i][1])['items']"
      ],
      "execution_count": 12,
      "outputs": []
    },
    {
      "cell_type": "code",
      "metadata": {
        "colab": {
          "base_uri": "https://localhost:8080/"
        },
        "id": "xpkqfVUo40Ad",
        "outputId": "b7ba60cb-2c07-4b40-c0c6-74e2655fcee3"
      },
      "source": [
        "import datetime\n",
        "\n",
        "now = datetime.datetime.now()\n",
        "now = now.strftime(\"%Y/%m/%d\")\n",
        "print(now)"
      ],
      "execution_count": 13,
      "outputs": [
        {
          "output_type": "stream",
          "name": "stdout",
          "text": [
            "2021/11/19\n"
          ]
        }
      ]
    },
    {
      "cell_type": "code",
      "metadata": {
        "colab": {
          "base_uri": "https://localhost:8080/"
        },
        "id": "LBNvhKTPnU8C",
        "outputId": "7ed29b67-071e-493a-fbef-c9d8f7a7d12f"
      },
      "source": [
        "video_detail[0]"
      ],
      "execution_count": 16,
      "outputs": [
        {
          "output_type": "execute_result",
          "data": {
            "text/plain": [
              "{'etag': 'AcDPAdqEyxvDdaJdDTHiUMIMSPI',\n",
              " 'id': 'UC67Wr_9pA4I0glIxDt_Cpyw',\n",
              " 'kind': 'youtube#channel',\n",
              " 'snippet': {'country': 'JP',\n",
              "  'customUrl': 'ryogakucho',\n",
              "  'description': '「今よりも一歩自由に！」をテーマに、 IT経営・投資家の両🦁（リベラルアーツ大学学長）が、人生を豊かにするために必要な知識を配信中！\\n\\n🎓 お金にまつわる基礎教養（貯める・稼ぐ・増やす・守る・使う の5つの力）\\n💖 心を豊かにする考え方・人生論\\n\\nを節約・投資・トレンドの話題などと絡めて、初心者にも分かりやすく解説しています。\\n\\n\\n【🏫リベラルアーツ大学とは】\\n日本一自由なIT会社の社長（兼、投資家）の両と、有志のスタッフが運営しているWebコンテンツの総称。\\n「自由に生きる人を増やしたい！」という想いのもと、《時間の自由》《経済的自立》《精神的自立》を得るために必要な知識を様々な形で配信しています。\\n\\n\\n【👇その他のリベラルアーツ大学のコンテンツいろいろ】\\n\\n🏘 リベシティ（リベ大公式コミュニティ）\\nhttps://site.libecity.com\\n\\n🌟 Twitter\\nhttps://twitter.com/freelife_blog\\n\\n💞 インスタ\\nhttps://instagram.com/freelife_blog\\n\\n📝 ブログ\\nhttps://liberaluni.com/\\n\\n🛍 公式グッズショップ\\nhttp://shop.liberaluni.com/\\n\\n📕 書籍\\nhttps://amzn.to/2VztyaF\\n\\n\\n【🦁両学長：プロフィール】\\n両：30代のIT会社経営者・投資家。\\n学生時代に起業し、ITビジネスと投資で20年間稼ぎ続ける。\\n現在は「自由な人をもっと増やす」という夢を叶えるために様々な媒体で情報を発信中！',\n",
              "  'localized': {'description': '「今よりも一歩自由に！」をテーマに、 IT経営・投資家の両🦁（リベラルアーツ大学学長）が、人生を豊かにするために必要な知識を配信中！\\n\\n🎓 お金にまつわる基礎教養（貯める・稼ぐ・増やす・守る・使う の5つの力）\\n💖 心を豊かにする考え方・人生論\\n\\nを節約・投資・トレンドの話題などと絡めて、初心者にも分かりやすく解説しています。\\n\\n\\n【🏫リベラルアーツ大学とは】\\n日本一自由なIT会社の社長（兼、投資家）の両と、有志のスタッフが運営しているWebコンテンツの総称。\\n「自由に生きる人を増やしたい！」という想いのもと、《時間の自由》《経済的自立》《精神的自立》を得るために必要な知識を様々な形で配信しています。\\n\\n\\n【👇その他のリベラルアーツ大学のコンテンツいろいろ】\\n\\n🏘 リベシティ（リベ大公式コミュニティ）\\nhttps://site.libecity.com\\n\\n🌟 Twitter\\nhttps://twitter.com/freelife_blog\\n\\n💞 インスタ\\nhttps://instagram.com/freelife_blog\\n\\n📝 ブログ\\nhttps://liberaluni.com/\\n\\n🛍 公式グッズショップ\\nhttp://shop.liberaluni.com/\\n\\n📕 書籍\\nhttps://amzn.to/2VztyaF\\n\\n\\n【🦁両学長：プロフィール】\\n両：30代のIT会社経営者・投資家。\\n学生時代に起業し、ITビジネスと投資で20年間稼ぎ続ける。\\n現在は「自由な人をもっと増やす」という夢を叶えるために様々な媒体で情報を発信中！',\n",
              "   'title': '両学長 リベラルアーツ大学'},\n",
              "  'publishedAt': '2018-10-05T00:12:30Z',\n",
              "  'thumbnails': {'default': {'height': 88,\n",
              "    'url': 'https://yt3.ggpht.com/ytc/AKedOLRH9W_JkIeZUIeiK_bbJ3Lu8hwwIX-59I2hlmhZ=s88-c-k-c0x00ffffff-no-rj',\n",
              "    'width': 88},\n",
              "   'high': {'height': 800,\n",
              "    'url': 'https://yt3.ggpht.com/ytc/AKedOLRH9W_JkIeZUIeiK_bbJ3Lu8hwwIX-59I2hlmhZ=s800-c-k-c0x00ffffff-no-rj',\n",
              "    'width': 800},\n",
              "   'medium': {'height': 240,\n",
              "    'url': 'https://yt3.ggpht.com/ytc/AKedOLRH9W_JkIeZUIeiK_bbJ3Lu8hwwIX-59I2hlmhZ=s240-c-k-c0x00ffffff-no-rj',\n",
              "    'width': 240}},\n",
              "  'title': '両学長 リベラルアーツ大学'},\n",
              " 'statistics': {'hiddenSubscriberCount': False,\n",
              "  'subscriberCount': '1620000',\n",
              "  'videoCount': '1209',\n",
              "  'viewCount': '329690483'}}"
            ]
          },
          "metadata": {},
          "execution_count": 16
        }
      ]
    },
    {
      "cell_type": "code",
      "metadata": {
        "colab": {
          "base_uri": "https://localhost:8080/"
        },
        "id": "H1DdMh6hmTNr",
        "outputId": "45920a9c-bda1-4ad3-9cc7-72b0d9f3f775"
      },
      "source": [
        "list = []\n",
        "\n",
        "column1 = '投稿本数({})'.format(now)\n",
        "column2 = 'チャンネル登録者数({})'.format(now)\n",
        "\n",
        "print(len(video_detail))\n",
        "for result in video_detail:\n",
        "  if not result['statistics']['hiddenSubscriberCount']:\n",
        "    list.append({column1: result['statistics']['videoCount'], column2: result['statistics']['subscriberCount']})\n",
        "\n",
        "df = pd.DataFrame(list)"
      ],
      "execution_count": 18,
      "outputs": [
        {
          "output_type": "stream",
          "name": "stdout",
          "text": [
            "228\n"
          ]
        }
      ]
    },
    {
      "cell_type": "code",
      "metadata": {
        "id": "RrMyzrSlmk1r",
        "colab": {
          "base_uri": "https://localhost:8080/",
          "height": 202
        },
        "outputId": "f7ed5f72-3cb0-433c-a637-d0bf50965785"
      },
      "source": [
        "df.head()"
      ],
      "execution_count": 19,
      "outputs": [
        {
          "output_type": "execute_result",
          "data": {
            "text/html": [
              "<div>\n",
              "<style scoped>\n",
              "    .dataframe tbody tr th:only-of-type {\n",
              "        vertical-align: middle;\n",
              "    }\n",
              "\n",
              "    .dataframe tbody tr th {\n",
              "        vertical-align: top;\n",
              "    }\n",
              "\n",
              "    .dataframe thead th {\n",
              "        text-align: right;\n",
              "    }\n",
              "</style>\n",
              "<table border=\"1\" class=\"dataframe\">\n",
              "  <thead>\n",
              "    <tr style=\"text-align: right;\">\n",
              "      <th></th>\n",
              "      <th>投稿本数(2021/11/19)</th>\n",
              "      <th>チャンネル登録者数(2021/11/19)</th>\n",
              "    </tr>\n",
              "  </thead>\n",
              "  <tbody>\n",
              "    <tr>\n",
              "      <th>0</th>\n",
              "      <td>1209</td>\n",
              "      <td>1620000</td>\n",
              "    </tr>\n",
              "    <tr>\n",
              "      <th>1</th>\n",
              "      <td>148</td>\n",
              "      <td>544000</td>\n",
              "    </tr>\n",
              "    <tr>\n",
              "      <th>2</th>\n",
              "      <td>1852</td>\n",
              "      <td>300000</td>\n",
              "    </tr>\n",
              "    <tr>\n",
              "      <th>3</th>\n",
              "      <td>1248</td>\n",
              "      <td>275000</td>\n",
              "    </tr>\n",
              "    <tr>\n",
              "      <th>4</th>\n",
              "      <td>1794</td>\n",
              "      <td>176000</td>\n",
              "    </tr>\n",
              "  </tbody>\n",
              "</table>\n",
              "</div>"
            ],
            "text/plain": [
              "  投稿本数(2021/11/19) チャンネル登録者数(2021/11/19)\n",
              "0             1209               1620000\n",
              "1              148                544000\n",
              "2             1852                300000\n",
              "3             1248                275000\n",
              "4             1794                176000"
            ]
          },
          "metadata": {},
          "execution_count": 19
        }
      ]
    },
    {
      "cell_type": "code",
      "metadata": {
        "id": "a_PwsJX46Ejz",
        "colab": {
          "base_uri": "https://localhost:8080/",
          "height": 597
        },
        "outputId": "be2e329c-e44f-4a07-8f6e-736725128154"
      },
      "source": [
        "pd.concat([main_csv, df], axis=1)"
      ],
      "execution_count": 20,
      "outputs": [
        {
          "output_type": "execute_result",
          "data": {
            "text/html": [
              "<div>\n",
              "<style scoped>\n",
              "    .dataframe tbody tr th:only-of-type {\n",
              "        vertical-align: middle;\n",
              "    }\n",
              "\n",
              "    .dataframe tbody tr th {\n",
              "        vertical-align: top;\n",
              "    }\n",
              "\n",
              "    .dataframe thead th {\n",
              "        text-align: right;\n",
              "    }\n",
              "</style>\n",
              "<table border=\"1\" class=\"dataframe\">\n",
              "  <thead>\n",
              "    <tr style=\"text-align: right;\">\n",
              "      <th></th>\n",
              "      <th>Unnamed: 0</th>\n",
              "      <th>チャンネルID</th>\n",
              "      <th>チャンネル名</th>\n",
              "      <th>開始日</th>\n",
              "      <th>投稿本数(2021/11/13)</th>\n",
              "      <th>チャンネル登録者数(2021/11/13)</th>\n",
              "      <th>投稿本数(2021/11/14)</th>\n",
              "      <th>チャンネル登録者数(2021/11/14)</th>\n",
              "      <th>投稿本数(2021/11/19)</th>\n",
              "      <th>チャンネル登録者数(2021/11/19)</th>\n",
              "    </tr>\n",
              "  </thead>\n",
              "  <tbody>\n",
              "    <tr>\n",
              "      <th>0</th>\n",
              "      <td>0</td>\n",
              "      <td>UC67Wr_9pA4I0glIxDt_Cpyw</td>\n",
              "      <td>両学長 リベラルアーツ大学</td>\n",
              "      <td>2018-10-05</td>\n",
              "      <td>1197</td>\n",
              "      <td>1610000</td>\n",
              "      <td>1198</td>\n",
              "      <td>1610000</td>\n",
              "      <td>1209</td>\n",
              "      <td>1620000</td>\n",
              "    </tr>\n",
              "    <tr>\n",
              "      <th>1</th>\n",
              "      <td>1</td>\n",
              "      <td>UCWdFb_w3JI1BPTiBCXERg2Q</td>\n",
              "      <td>AK in カナダ｜AK-English</td>\n",
              "      <td>2016-05-11</td>\n",
              "      <td>148</td>\n",
              "      <td>544000</td>\n",
              "      <td>148</td>\n",
              "      <td>544000</td>\n",
              "      <td>148</td>\n",
              "      <td>544000</td>\n",
              "    </tr>\n",
              "    <tr>\n",
              "      <th>2</th>\n",
              "      <td>2</td>\n",
              "      <td>UCfMIdADo6FQayQCOkLYGhrQ</td>\n",
              "      <td>JAXA | 宇宙航空研究開発機構</td>\n",
              "      <td>2009-02-27</td>\n",
              "      <td>1852</td>\n",
              "      <td>299000</td>\n",
              "      <td>1852</td>\n",
              "      <td>299000</td>\n",
              "      <td>1852</td>\n",
              "      <td>300000</td>\n",
              "    </tr>\n",
              "    <tr>\n",
              "      <th>3</th>\n",
              "      <td>3</td>\n",
              "      <td>UC4zNRgdhLb7wczrMcfdrsVQ</td>\n",
              "      <td>JIN [仁]</td>\n",
              "      <td>2012-11-27</td>\n",
              "      <td>1241</td>\n",
              "      <td>273000</td>\n",
              "      <td>1242</td>\n",
              "      <td>274000</td>\n",
              "      <td>1248</td>\n",
              "      <td>275000</td>\n",
              "    </tr>\n",
              "    <tr>\n",
              "      <th>4</th>\n",
              "      <td>4</td>\n",
              "      <td>UCw3RCydc5_K74047gunkeaw</td>\n",
              "      <td>れのれらTV / RenoRera TV</td>\n",
              "      <td>2015-02-21</td>\n",
              "      <td>1787</td>\n",
              "      <td>176000</td>\n",
              "      <td>1788</td>\n",
              "      <td>176000</td>\n",
              "      <td>1794</td>\n",
              "      <td>176000</td>\n",
              "    </tr>\n",
              "    <tr>\n",
              "      <th>...</th>\n",
              "      <td>...</td>\n",
              "      <td>...</td>\n",
              "      <td>...</td>\n",
              "      <td>...</td>\n",
              "      <td>...</td>\n",
              "      <td>...</td>\n",
              "      <td>...</td>\n",
              "      <td>...</td>\n",
              "      <td>...</td>\n",
              "      <td>...</td>\n",
              "    </tr>\n",
              "    <tr>\n",
              "      <th>223</th>\n",
              "      <td>223</td>\n",
              "      <td>UCkxwe9vIUgINTNx0IVBvjfQ</td>\n",
              "      <td>れん Vlog</td>\n",
              "      <td>2021-10-25</td>\n",
              "      <td>2</td>\n",
              "      <td>0</td>\n",
              "      <td>2</td>\n",
              "      <td>0</td>\n",
              "      <td>1</td>\n",
              "      <td>0</td>\n",
              "    </tr>\n",
              "    <tr>\n",
              "      <th>224</th>\n",
              "      <td>224</td>\n",
              "      <td>UC1WU0XTfP5FsP5kKCBKAX0Q</td>\n",
              "      <td>マサ 勉強vlog</td>\n",
              "      <td>2020-10-02</td>\n",
              "      <td>1</td>\n",
              "      <td>0</td>\n",
              "      <td>1</td>\n",
              "      <td>0</td>\n",
              "      <td>1</td>\n",
              "      <td>0</td>\n",
              "    </tr>\n",
              "    <tr>\n",
              "      <th>225</th>\n",
              "      <td>225</td>\n",
              "      <td>UC8UO4zHS-fLGkfJ5pVghFyQ</td>\n",
              "      <td>sun vlog</td>\n",
              "      <td>2021-02-24</td>\n",
              "      <td>1</td>\n",
              "      <td>0</td>\n",
              "      <td>1</td>\n",
              "      <td>0</td>\n",
              "      <td>3</td>\n",
              "      <td>0</td>\n",
              "    </tr>\n",
              "    <tr>\n",
              "      <th>226</th>\n",
              "      <td>226</td>\n",
              "      <td>UC4PxPGdB-JjIrRf88Dx6JEA</td>\n",
              "      <td>あやま　ブログ</td>\n",
              "      <td>2021-08-07</td>\n",
              "      <td>3</td>\n",
              "      <td>0</td>\n",
              "      <td>3</td>\n",
              "      <td>0</td>\n",
              "      <td>1</td>\n",
              "      <td>0</td>\n",
              "    </tr>\n",
              "    <tr>\n",
              "      <th>227</th>\n",
              "      <td>227</td>\n",
              "      <td>UCAUnMmula32dW5WdriDqNuw</td>\n",
              "      <td>イスタ</td>\n",
              "      <td>2021-09-14</td>\n",
              "      <td>1</td>\n",
              "      <td>0</td>\n",
              "      <td>1</td>\n",
              "      <td>0</td>\n",
              "      <td>NaN</td>\n",
              "      <td>NaN</td>\n",
              "    </tr>\n",
              "  </tbody>\n",
              "</table>\n",
              "<p>228 rows × 10 columns</p>\n",
              "</div>"
            ],
            "text/plain": [
              "     Unnamed: 0  ... チャンネル登録者数(2021/11/19)\n",
              "0             0  ...               1620000\n",
              "1             1  ...                544000\n",
              "2             2  ...                300000\n",
              "3             3  ...                275000\n",
              "4             4  ...                176000\n",
              "..          ...  ...                   ...\n",
              "223         223  ...                     0\n",
              "224         224  ...                     0\n",
              "225         225  ...                     0\n",
              "226         226  ...                     0\n",
              "227         227  ...                   NaN\n",
              "\n",
              "[228 rows x 10 columns]"
            ]
          },
          "metadata": {},
          "execution_count": 20
        }
      ]
    },
    {
      "cell_type": "code",
      "metadata": {
        "id": "Vm2cM2Nh8JXx"
      },
      "source": [
        "pd.concat([main_csv, df], axis=1).to_csv('/content/gdrive/My Drive/Colab Notebooks/work/data/youtube_chanel - youtube_chanel.csv')"
      ],
      "execution_count": 21,
      "outputs": []
    },
    {
      "cell_type": "code",
      "metadata": {
        "id": "QB1uJEEimFGl"
      },
      "source": [
        ""
      ],
      "execution_count": null,
      "outputs": []
    }
  ]
}