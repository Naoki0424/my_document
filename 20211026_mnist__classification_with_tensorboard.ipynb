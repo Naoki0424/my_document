{
  "nbformat": 4,
  "nbformat_minor": 0,
  "metadata": {
    "colab": {
      "name": "20211026_mnist_ classification_with_tensorboard.ipynb",
      "provenance": [],
      "authorship_tag": "ABX9TyN4P5p5LCO3rmb/jDt+Ta4u",
      "include_colab_link": true
    },
    "kernelspec": {
      "name": "python3",
      "display_name": "Python 3"
    },
    "language_info": {
      "name": "python"
    }
  },
  "cells": [
    {
      "cell_type": "markdown",
      "metadata": {
        "id": "view-in-github",
        "colab_type": "text"
      },
      "source": [
        "<a href=\"https://colab.research.google.com/github/Naoki0424/my_document/blob/main/20211026_mnist__classification_with_tensorboard.ipynb\" target=\"_parent\"><img src=\"https://colab.research.google.com/assets/colab-badge.svg\" alt=\"Open In Colab\"/></a>"
      ]
    },
    {
      "cell_type": "markdown",
      "metadata": {
        "id": "uEFj0QW9X-Gp"
      },
      "source": [
        "# MNISTの手書文字分類"
      ]
    },
    {
      "cell_type": "markdown",
      "metadata": {
        "id": "gYT-61-bYBe3"
      },
      "source": [
        "## ライブラリインポート"
      ]
    },
    {
      "cell_type": "code",
      "metadata": {
        "id": "gAOUxAJcXpUj"
      },
      "source": [
        "import numpy as np\n",
        "from pandas import DataFrame\n",
        "import matplotlib.pyplot as plt\n",
        "import shutil\n",
        "\n",
        "import tensorflow as tf\n",
        "from tensorflow.keras import layers, models, utils, initializers, callbacks\n",
        "from tensorflow.keras.datasets import mnist\n",
        "\n",
        "np.random.seed(20211026)\n",
        "tf.random.set_seed(20211026)"
      ],
      "execution_count": null,
      "outputs": []
    },
    {
      "cell_type": "markdown",
      "metadata": {
        "id": "egYrnDZIbg2w"
      },
      "source": [
        "### MNISTのデータセットをダウンロードする"
      ]
    },
    {
      "cell_type": "code",
      "metadata": {
        "colab": {
          "base_uri": "https://localhost:8080/"
        },
        "id": "ghDqJ8IFblLp",
        "outputId": "00531f75-45cf-494c-fb9b-484767415c20"
      },
      "source": [
        "# 画像データのダウンロード\n",
        "(train_images, train_labels), (test_images, test_labels) = mnist.load_data()\n",
        "\n",
        "print(train_images.shape)\n",
        "\n",
        "# 正規化？？\n",
        "train_images = train_images.reshape((len(train_images), 784)).astype('float32') / 255\n",
        "test_images = test_images.reshape((len(test_images), 784)).astype('float32') / 255\n",
        "\n",
        "# ワンホットエンコーディング\n",
        "train_labels = tf.keras.utils.to_categorical(train_labels, 10)\n",
        "test_labels = tf.keras.utils.to_categorical(test_labels, 10)"
      ],
      "execution_count": null,
      "outputs": [
        {
          "output_type": "stream",
          "name": "stdout",
          "text": [
            "(60000, 28, 28)\n"
          ]
        }
      ]
    },
    {
      "cell_type": "markdown",
      "metadata": {
        "id": "L3qPSHGBYzyE"
      },
      "source": [
        "## モデルの定義を行う"
      ]
    },
    {
      "cell_type": "code",
      "metadata": {
        "colab": {
          "base_uri": "https://localhost:8080/"
        },
        "id": "GiPoaYk0Ysmq",
        "outputId": "229d69c0-dd3f-4fea-f2b6-4b8ee78a4067"
      },
      "source": [
        "model = models.Sequential()\n",
        "model.add(layers.Dense(1024, activation='relu', input_shape=(28*28, ), kernel_initializer=initializers.TruncatedNormal(), name='hidden'))\n",
        "model.add(layers.Dense(10, activation='softmax', name='softmax'))\n",
        "\n",
        "model.summary()"
      ],
      "execution_count": null,
      "outputs": [
        {
          "output_type": "stream",
          "name": "stdout",
          "text": [
            "Model: \"sequential_3\"\n",
            "_________________________________________________________________\n",
            "Layer (type)                 Output Shape              Param #   \n",
            "=================================================================\n",
            "hidden (Dense)               (None, 1024)              803840    \n",
            "_________________________________________________________________\n",
            "softmax (Dense)              (None, 10)                10250     \n",
            "=================================================================\n",
            "Total params: 814,090\n",
            "Trainable params: 814,090\n",
            "Non-trainable params: 0\n",
            "_________________________________________________________________\n"
          ]
        }
      ]
    },
    {
      "cell_type": "markdown",
      "metadata": {
        "id": "pm49nfezZ1bL"
      },
      "source": [
        "`kernel_initializer=initializers.TruncatedNormal()`により、ノードの重さの初期値を乱数で取得しています。この設定を行っていない場合、乱数は0で設定されますが、ニューラルネットワークの重さの初期値は一般的には乱数の方が良いとされています。"
      ]
    },
    {
      "cell_type": "code",
      "metadata": {
        "colab": {
          "base_uri": "https://localhost:8080/",
          "height": 121
        },
        "id": "7wMWdITcZUF9",
        "outputId": "c8b76e81-fdc3-463f-b4ee-b1e0c053eb2f"
      },
      "source": [
        "utils.plot_model(model, to_file='model.png', show_shapes=True, show_layer_names=True, rankdir='LR', expand_nested=True, dpi=96)"
      ],
      "execution_count": null,
      "outputs": [
        {
          "output_type": "execute_result",
          "data": {
            "image/png": "[encoded data removed]",
            "text/plain": [
              "<IPython.core.display.Image object>"
            ]
          },
          "metadata": {},
          "execution_count": 30
        }
      ]
    },
    {
      "cell_type": "code",
      "metadata": {
        "id": "wGzNuER_ZkoC"
      },
      "source": [
        "model.compile(optimizer='adam', loss='categorical_crossentropy', metrics=['acc'])"
      ],
      "execution_count": null,
      "outputs": []
    },
    {
      "cell_type": "markdown",
      "metadata": {
        "id": "Opil5cZYaZwv"
      },
      "source": [
        "## 学習を行う"
      ]
    },
    {
      "cell_type": "code",
      "metadata": {
        "colab": {
          "base_uri": "https://localhost:8080/"
        },
        "id": "ogPGwsXxaYMQ",
        "outputId": "91d1468b-c2bf-4948-9e0d-669a4202519a"
      },
      "source": [
        "log_dir = '/tmp/log'\n",
        "shutil.rmtree(log_dir, ignore_errors=True)\n",
        "tensorboard_callback = callbacks.TensorBoard(log_dir=log_dir, histogram_freq=1)\n",
        "\n",
        "history = model.fit(train_images, train_labels, validation_data=(test_images, test_labels), batch_size=128, epochs=10, callbacks=[tensorboard_callback])"
      ],
      "execution_count": null,
      "outputs": [
        {
          "output_type": "stream",
          "name": "stdout",
          "text": [
            "Epoch 1/10\n",
            "469/469 [==============================] - 8s 16ms/step - loss: 0.2355 - acc: 0.9323 - val_loss: 0.1184 - val_acc: 0.9655\n",
            "Epoch 2/10\n",
            "469/469 [==============================] - 8s 16ms/step - loss: 0.0905 - acc: 0.9736 - val_loss: 0.0855 - val_acc: 0.9751\n",
            "Epoch 3/10\n",
            "469/469 [==============================] - 8s 16ms/step - loss: 0.0556 - acc: 0.9833 - val_loss: 0.0778 - val_acc: 0.9741\n",
            "Epoch 4/10\n",
            "469/469 [==============================] - 8s 16ms/step - loss: 0.0380 - acc: 0.9884 - val_loss: 0.0606 - val_acc: 0.9808\n",
            "Epoch 5/10\n",
            "469/469 [==============================] - 8s 16ms/step - loss: 0.0276 - acc: 0.9915 - val_loss: 0.0624 - val_acc: 0.9812\n",
            "Epoch 6/10\n",
            "469/469 [==============================] - 8s 17ms/step - loss: 0.0201 - acc: 0.9941 - val_loss: 0.0670 - val_acc: 0.9795\n",
            "Epoch 7/10\n",
            "469/469 [==============================] - 8s 17ms/step - loss: 0.0129 - acc: 0.9965 - val_loss: 0.0668 - val_acc: 0.9800\n",
            "Epoch 8/10\n",
            "469/469 [==============================] - 8s 17ms/step - loss: 0.0099 - acc: 0.9974 - val_loss: 0.0744 - val_acc: 0.9777\n",
            "Epoch 9/10\n",
            "469/469 [==============================] - 8s 17ms/step - loss: 0.0081 - acc: 0.9980 - val_loss: 0.0698 - val_acc: 0.9805\n",
            "Epoch 10/10\n",
            "469/469 [==============================] - 8s 17ms/step - loss: 0.0099 - acc: 0.9971 - val_loss: 0.0682 - val_acc: 0.9820\n"
          ]
        }
      ]
    },
    {
      "cell_type": "code",
      "metadata": {
        "colab": {
          "base_uri": "https://localhost:8080/"
        },
        "id": "2gDDVZ-eaozx",
        "outputId": "1aa84713-26b3-47d9-a31a-324be0209b2f"
      },
      "source": [
        "!curl -OL https://bin.equinox.io./c/4VmDzA7iaHb/ngrok-stable-linux-amd64.zip"
      ],
      "execution_count": null,
      "outputs": [
        {
          "output_type": "stream",
          "name": "stdout",
          "text": [
            "  % Total    % Received % Xferd  Average Speed   Time    Time     Time  Current\n",
            "                                 Dload  Upload   Total   Spent    Left  Speed\n",
            "100 13.1M  100 13.1M    0     0  18.2M      0 --:--:-- --:--:-- --:--:-- 18.2M\n"
          ]
        }
      ]
    },
    {
      "cell_type": "markdown",
      "metadata": {
        "id": "XF2MqQ-Zg4T_"
      },
      "source": [
        "ngrocのモジュールをダウンロードする。ngrocはグローバルIPアドレスを持たないサーバー上のアプリケーションに対してインターネットからアクセスを利用可能にするサービスです"
      ]
    },
    {
      "cell_type": "code",
      "metadata": {
        "colab": {
          "base_uri": "https://localhost:8080/"
        },
        "id": "HLBl2oGacfpB",
        "outputId": "87b580c9-7fa5-4b8d-e799-b915cba0e88a"
      },
      "source": [
        "!unzip -o ngrok-stable-linux-amd64.zip"
      ],
      "execution_count": null,
      "outputs": [
        {
          "output_type": "stream",
          "name": "stdout",
          "text": [
            "Archive:  ngrok-stable-linux-amd64.zip\n",
            "  inflating: ngrok                   \n"
          ]
        }
      ]
    },
    {
      "cell_type": "markdown",
      "metadata": {
        "id": "Dj6imMJNg8rj"
      },
      "source": [
        "ダウンロードしたモジュールを解凍する"
      ]
    },
    {
      "cell_type": "code",
      "metadata": {
        "id": "NtSygtjhcmYS"
      },
      "source": [
        "get_ipython().system_raw(\n",
        "    'tensorboard --logdir {} --host 0.0.0.0 --port 6006 &'\n",
        "    .format(log_dir))"
      ],
      "execution_count": null,
      "outputs": []
    },
    {
      "cell_type": "markdown",
      "metadata": {
        "id": "ZGK1NJyhhalN"
      },
      "source": [
        "TensorBoardをバックグラウンドで実行する。\n",
        "`get_ipython().system_raw()`はコマンドの実行を行うコードです（？）。"
      ]
    },
    {
      "cell_type": "code",
      "metadata": {
        "id": "A40n7vK8c3LB"
      },
      "source": [
        "get_ipython().system_raw('./ngrok http 6006 &')"
      ],
      "execution_count": null,
      "outputs": []
    },
    {
      "cell_type": "markdown",
      "metadata": {
        "id": "LvKm-C4yhpVx"
      },
      "source": [
        "ngrokバックグラウンドプロセスを起動する。"
      ]
    },
    {
      "cell_type": "code",
      "metadata": {
        "colab": {
          "base_uri": "https://localhost:8080/"
        },
        "id": "HYHxsOtidFVd",
        "outputId": "b43d7714-4d88-461a-d6d1-47f38ca46681"
      },
      "source": [
        "!curl -s http://localhost:4040/api/tunnels | python3 -c \\\n",
        "    \"import sys, json; print(json.load(sys.stdin)['tunnels'][0]['public_url'])\""
      ],
      "execution_count": null,
      "outputs": [
        {
          "output_type": "stream",
          "name": "stdout",
          "text": [
            "http://5452-35-237-23-7.ngrok.io\n"
          ]
        }
      ]
    },
    {
      "cell_type": "markdown",
      "metadata": {
        "id": "Tafotue4hto0"
      },
      "source": [
        "TensorBoard表示のURLを取得する。localhost:4040でNgrokのステータスをJsonで取得してpublicUrlをPrintしている。"
      ]
    }
  ]
}