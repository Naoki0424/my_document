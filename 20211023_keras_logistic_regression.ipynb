{
  "nbformat": 4,
  "nbformat_minor": 0,
  "metadata": {
    "colab": {
      "name": "20211023_keras_logistic_regression.ipynb",
      "provenance": [],
      "collapsed_sections": [],
      "toc_visible": true,
      "authorship_tag": "ABX9TyNR2dp+N9Qe2DD/cWYpZUzz",
      "include_colab_link": true
    },
    "kernelspec": {
      "name": "python3",
      "display_name": "Python 3"
    },
    "language_info": {
      "name": "python"
    }
  },
  "cells": [
    {
      "cell_type": "markdown",
      "metadata": {
        "id": "view-in-github",
        "colab_type": "text"
      },
      "source": [
        "<a href=\"https://colab.research.google.com/github/Naoki0424/my_document/blob/main/20211023_keras_logistic_regression.ipynb\" target=\"_parent\"><img src=\"https://colab.research.google.com/assets/colab-badge.svg\" alt=\"Open In Colab\"/></a>"
      ]
    },
    {
      "cell_type": "markdown",
      "metadata": {
        "id": "5gr7oFbU8LQ8"
      },
      "source": [
        "# Kerasによるロジスティック回帰の実装"
      ]
    },
    {
      "cell_type": "markdown",
      "metadata": {
        "id": "B7GsDxeK8Rxy"
      },
      "source": [
        "## ライブラリのインポート"
      ]
    },
    {
      "cell_type": "code",
      "metadata": {
        "id": "POezKY2w8I6I"
      },
      "source": [
        "import numpy as np\n",
        "from numpy.random import multivariate_normal, permutation\n",
        "import pandas as pd\n",
        "from pandas import DataFrame\n",
        "import matplotlib.pyplot as plt\n",
        "\n",
        "import tensorflow as tf\n",
        "from tensorflow.keras import layers, models\n",
        "\n",
        "np.random.seed(20211023)\n",
        "tf.random.set_seed(20211023)"
      ],
      "execution_count": 2,
      "outputs": []
    },
    {
      "cell_type": "markdown",
      "metadata": {
        "id": "38R0gIpJ9Jkd"
      },
      "source": [
        "tensorflowのVariableの初期値に対しても乱数が生成されるため`tf.random.set_seed(20211023)`で乱数のシードを設定している。これにより実行毎に異なる乱数が設定されることを防ぐことができます"
      ]
    },
    {
      "cell_type": "markdown",
      "metadata": {
        "id": "-IMbmKBQ9eAX"
      },
      "source": [
        "## 訓練データの作成"
      ]
    },
    {
      "cell_type": "code",
      "metadata": {
        "id": "kUVLRGhk87T9"
      },
      "source": [
        "n0, mu0, variance0 = 20, [10, 11], 20\n",
        "data0 = multivariate_normal(mu0, np.eye(2) * variance0, n0)\n",
        "df0 = DataFrame(data0, columns=['x1', 'x2'])\n",
        "df0['t'] = 0\n",
        "\n",
        "n1, mu1, variance1 = 15, [18, 20], 22\n",
        "data1 = multivariate_normal(mu1, np.eye(2) * variance1, n1)\n",
        "df1 = DataFrame(data1, columns=['x1', 'x2'])\n",
        "df1['t'] = 1\n",
        "\n",
        "# データの結合\n",
        "df = pd.concat([df0, df1], ignore_index=True)\n",
        "# データのシャッフル\n",
        "train_set = df.reindex(permutation(df.index)).reset_index(drop=True)"
      ],
      "execution_count": 5,
      "outputs": []
    },
    {
      "cell_type": "code",
      "metadata": {
        "colab": {
          "base_uri": "https://localhost:8080/",
          "height": 204
        },
        "id": "ANujFecC98BY",
        "outputId": "997dec5f-4a44-4ad8-90d0-d6051e020ef2"
      },
      "source": [
        "train_set.head()"
      ],
      "execution_count": 7,
      "outputs": [
        {
          "output_type": "execute_result",
          "data": {
            "text/html": [
              "<div>\n",
              "<style scoped>\n",
              "    .dataframe tbody tr th:only-of-type {\n",
              "        vertical-align: middle;\n",
              "    }\n",
              "\n",
              "    .dataframe tbody tr th {\n",
              "        vertical-align: top;\n",
              "    }\n",
              "\n",
              "    .dataframe thead th {\n",
              "        text-align: right;\n",
              "    }\n",
              "</style>\n",
              "<table border=\"1\" class=\"dataframe\">\n",
              "  <thead>\n",
              "    <tr style=\"text-align: right;\">\n",
              "      <th></th>\n",
              "      <th>x1</th>\n",
              "      <th>x2</th>\n",
              "      <th>t</th>\n",
              "    </tr>\n",
              "  </thead>\n",
              "  <tbody>\n",
              "    <tr>\n",
              "      <th>0</th>\n",
              "      <td>21.091013</td>\n",
              "      <td>17.632713</td>\n",
              "      <td>1</td>\n",
              "    </tr>\n",
              "    <tr>\n",
              "      <th>1</th>\n",
              "      <td>20.164246</td>\n",
              "      <td>16.113494</td>\n",
              "      <td>1</td>\n",
              "    </tr>\n",
              "    <tr>\n",
              "      <th>2</th>\n",
              "      <td>13.827500</td>\n",
              "      <td>24.960522</td>\n",
              "      <td>0</td>\n",
              "    </tr>\n",
              "    <tr>\n",
              "      <th>3</th>\n",
              "      <td>25.175180</td>\n",
              "      <td>12.756725</td>\n",
              "      <td>1</td>\n",
              "    </tr>\n",
              "    <tr>\n",
              "      <th>4</th>\n",
              "      <td>7.393000</td>\n",
              "      <td>8.830392</td>\n",
              "      <td>0</td>\n",
              "    </tr>\n",
              "  </tbody>\n",
              "</table>\n",
              "</div>"
            ],
            "text/plain": [
              "          x1         x2  t\n",
              "0  21.091013  17.632713  1\n",
              "1  20.164246  16.113494  1\n",
              "2  13.827500  24.960522  0\n",
              "3  25.175180  12.756725  1\n",
              "4   7.393000   8.830392  0"
            ]
          },
          "metadata": {},
          "execution_count": 7
        }
      ]
    },
    {
      "cell_type": "code",
      "metadata": {
        "id": "oD4Cmu_I-_3R"
      },
      "source": [
        "# 後続の処理を考慮し説明変数と目的変数に分解\n",
        "train_x = train_set[['x1', 'x2']].values\n",
        "train_t = train_set['t'].values"
      ],
      "execution_count": 8,
      "outputs": []
    },
    {
      "cell_type": "code",
      "metadata": {
        "colab": {
          "base_uri": "https://localhost:8080/"
        },
        "id": "Eu0u0iFo_mzQ",
        "outputId": "39d658e7-ce2f-4788-f65f-12bbf04a8d77"
      },
      "source": [
        "train_x"
      ],
      "execution_count": 10,
      "outputs": [
        {
          "output_type": "execute_result",
          "data": {
            "text/plain": [
              "array([[21.09101269, 17.63271349],\n",
              "       [20.16424565, 16.11349408],\n",
              "       [13.82750002, 24.96052214],\n",
              "       [25.17517955, 12.7567246 ],\n",
              "       [ 7.39299975,  8.83039225],\n",
              "       [13.96565011, 22.27839356],\n",
              "       [18.92372696,  9.07083692],\n",
              "       [22.06963135, 21.17067039],\n",
              "       [17.82605689, 23.52827985],\n",
              "       [15.12915847, 16.87132015],\n",
              "       [ 2.8134497 , 16.98528028],\n",
              "       [ 8.88090549,  7.89032155],\n",
              "       [10.96983741,  9.15534724],\n",
              "       [ 2.3422848 ,  8.07368321],\n",
              "       [13.27812152,  4.5812403 ],\n",
              "       [14.7694357 , 22.45389211],\n",
              "       [-1.67223602,  9.9072878 ],\n",
              "       [24.6096332 , 20.34048978],\n",
              "       [14.94434039, 12.59448861],\n",
              "       [12.13239521, 15.51268895],\n",
              "       [16.00788679, 14.06211847],\n",
              "       [17.53649717, 17.84887084],\n",
              "       [26.43729579, 20.47185975],\n",
              "       [14.70734357,  8.12166091],\n",
              "       [ 8.19801076,  7.03989462],\n",
              "       [11.09227443, 12.62436972],\n",
              "       [16.35713157, 12.38129742],\n",
              "       [22.11659475, 20.58874882],\n",
              "       [ 4.59651831, 15.61542415],\n",
              "       [18.10966169, 22.99470228],\n",
              "       [ 9.52207999,  6.92345866],\n",
              "       [ 6.13101525,  9.9756345 ],\n",
              "       [15.37837572, 11.95482048],\n",
              "       [13.73124364, 22.48763078],\n",
              "       [ 9.27123342, 14.4377343 ]])"
            ]
          },
          "metadata": {},
          "execution_count": 10
        }
      ]
    },
    {
      "cell_type": "code",
      "metadata": {
        "colab": {
          "base_uri": "https://localhost:8080/"
        },
        "id": "9mJXxtLq_pDH",
        "outputId": "3d584bcb-055e-4c61-c527-e3774e37b23e"
      },
      "source": [
        "train_t"
      ],
      "execution_count": 12,
      "outputs": [
        {
          "output_type": "execute_result",
          "data": {
            "text/plain": [
              "array([1, 1, 0, 1, 0, 1, 1, 1, 1, 1, 0, 0, 0, 0, 0, 1, 0, 1, 0, 0, 0, 1,\n",
              "       1, 0, 0, 0, 0, 1, 0, 1, 0, 0, 0, 1, 0])"
            ]
          },
          "metadata": {},
          "execution_count": 12
        }
      ]
    },
    {
      "cell_type": "markdown",
      "metadata": {
        "id": "010us4ly_9xf"
      },
      "source": [
        "## 予測値を計算する式を定義する"
      ]
    },
    {
      "cell_type": "code",
      "metadata": {
        "colab": {
          "base_uri": "https://localhost:8080/"
        },
        "id": "AveWIj93_t-k",
        "outputId": "c407fa94-00e1-4917-98d3-0dd0153dd66a"
      },
      "source": [
        "model = models.Sequential()\n",
        "model.add(layers.Dense(1, activation='sigmoid', input_shape=(2, ), name='logistic_regression'))\n",
        "\n",
        "model.summary()"
      ],
      "execution_count": 14,
      "outputs": [
        {
          "output_type": "stream",
          "name": "stdout",
          "text": [
            "Model: \"sequential_1\"\n",
            "_________________________________________________________________\n",
            "Layer (type)                 Output Shape              Param #   \n",
            "=================================================================\n",
            "logistic_regression (Dense)  (None, 1)                 3         \n",
            "=================================================================\n",
            "Total params: 3\n",
            "Trainable params: 3\n",
            "Non-trainable params: 0\n",
            "_________________________________________________________________\n"
          ]
        }
      ]
    },
    {
      "cell_type": "markdown",
      "metadata": {
        "id": "i1lHiXkuA0EV"
      },
      "source": [
        "`ayers.Dense()`は１次関数＋活性化関数(ここではσ()としています)を示しています。\n",
        "`activation='sigmoid'`により活性化関数にシグモイド関数を設定しています。\n",
        "数式に表すと以下です。\n",
        "\n",
        "$$\n",
        "P(x_{1}, x_{2}) = σ(w_{1}x_{1} + w_{2}x_{2} + b)\n",
        "$$\n",
        "\n",
        "\n",
        "シグモイド関数は0〜1の範囲で出力を行うため確率と解釈されることがあります。\n",
        "\n",
        "Output Shape では出力するデータの形状を示しています。ここでは(None, 1)となっているため1つの確率が求まることが分かります\n",
        "\n",
        "Param #では調整するパラメータの個数が分かります。ここでは重みが2つ、バイアスが1つです。\n"
      ]
    },
    {
      "cell_type": "markdown",
      "metadata": {
        "id": "aie0tVHHDsfO"
      },
      "source": [
        "## 誤差関数を定義する"
      ]
    },
    {
      "cell_type": "code",
      "metadata": {
        "id": "CuXJVlgXAdIt"
      },
      "source": [
        "model.compile(optimizer='adam', loss='binary_crossentropy', metrics=['acc'])"
      ],
      "execution_count": 16,
      "outputs": []
    },
    {
      "cell_type": "markdown",
      "metadata": {
        "id": "65fW73JCFfMl"
      },
      "source": [
        "`optimizer='adam'`により、最適化アルゴリズムにAdamで設定、\n",
        "loss='binary_crossentropy'により、誤差関数に交差エントロピーを設定しています。\n",
        "\n",
        "`metrics=['acc']`によりモデルの性能評価に正解率（Accuracy）を設定しています。"
      ]
    },
    {
      "cell_type": "markdown",
      "metadata": {
        "id": "X1Ekt7eyGOel"
      },
      "source": [
        "## 学習を行う"
      ]
    },
    {
      "cell_type": "code",
      "metadata": {
        "id": "YqmcD9h-GN4T"
      },
      "source": [
        "history = model.fit(train_x, train_t, batch_size=len(train_x), epochs=5000, verbose=0)"
      ],
      "execution_count": 18,
      "outputs": []
    },
    {
      "cell_type": "markdown",
      "metadata": {
        "id": "OKViVWsEGvPS"
      },
      "source": [
        "## 結果をグラフで描画"
      ]
    },
    {
      "cell_type": "code",
      "metadata": {
        "colab": {
          "base_uri": "https://localhost:8080/",
          "height": 530
        },
        "id": "tLX_ACh-GcFb",
        "outputId": "4c781c74-3840-483e-89a9-8d87e16075aa"
      },
      "source": [
        "DataFrame({'acc': history.history['acc']}).plot()\n",
        "DataFrame({'loss': history.history['loss']}).plot()"
      ],
      "execution_count": 21,
      "outputs": [
        {
          "output_type": "execute_result",
          "data": {
            "text/plain": [
              "<matplotlib.axes._subplots.AxesSubplot at 0x7f138b195a10>"
            ]
          },
          "metadata": {},
          "execution_count": 21
        },
        {
          "output_type": "display_data",
          "data": {
            "image/png": "[encoded data removed]",
            "text/plain": [
              "<Figure size 432x288 with 1 Axes>"
            ]
          },
          "metadata": {
            "needs_background": "light"
          }
        },
        {
          "output_type": "display_data",
          "data": {
            "image/png": "[encoded data removed]",
            "text/plain": [
              "<Figure size 432x288 with 1 Axes>"
            ]
          },
          "metadata": {
            "needs_background": "light"
          }
        }
      ]
    },
    {
      "cell_type": "code",
      "metadata": {
        "colab": {
          "base_uri": "https://localhost:8080/",
          "height": 449
        },
        "id": "nDbcVrrrG5pI",
        "outputId": "d25000b7-37e6-446e-9c4a-efee09d60f62"
      },
      "source": [
        "# 調整を終えたパラメータを取得\n",
        "[[w1], [w2]], [b] = model.get_weights()\n",
        "\n",
        "train_set0 = train_set[train_set['t'] == 0]\n",
        "train_set1 = train_set[train_set['t'] == 1]\n",
        "\n",
        "fig = plt.figure(figsize=(7, 7))\n",
        "subplot = fig.add_subplot(1, 1, 1)\n",
        "subplot.set_ylim([0, 30])\n",
        "subplot.set_xlim([0, 30])\n",
        "\n",
        "# 訓練データの描画\n",
        "subplot.scatter(train_set1.x1, train_set1.x2, marker='x')\n",
        "subplot.scatter(train_set0.x1, train_set0.x2, marker='o')\n",
        "\n",
        "# 境界線の描画\n",
        "xs = np.linspace(0, 30, 10)\n",
        "ys = - (w1*xs/w2 + b/w2)\n",
        "subplot.plot(xs, ys)\n",
        "\n",
        "# 濃淡の描画\n",
        "field = [[1 / (1 + np.exp(-(w1*x1 + w2*x2 + b))) for x1 in np.linspace(0, 30, 100)] for x2 in np.linspace(0, 30, 100)]\n",
        "subplot.imshow(field, origin='lower', extent=(0, 30, 0, 30), vmin=0, vmax=1, cmap=plt.cm.gray_r, alpha=0.5)\n"
      ],
      "execution_count": 39,
      "outputs": [
        {
          "output_type": "execute_result",
          "data": {
            "text/plain": [
              "<matplotlib.image.AxesImage at 0x7f138a5b9150>"
            ]
          },
          "metadata": {},
          "execution_count": 39
        },
        {
          "output_type": "display_data",
          "data": {
            "image/png": "[encoded data removed]",
            "text/plain": [
              "<Figure size 504x504 with 1 Axes>"
            ]
          },
          "metadata": {
            "needs_background": "light"
          }
        }
      ]
    },
    {
      "cell_type": "code",
      "metadata": {
        "id": "B0H90vbuIPAz"
      },
      "source": [
        ""
      ],
      "execution_count": null,
      "outputs": []
    }
  ]
}