{
  "nbformat": 4,
  "nbformat_minor": 0,
  "metadata": {
    "colab": {
      "name": "tensorflow_ver1.ipynb",
      "provenance": [],
      "toc_visible": true,
      "authorship_tag": "ABX9TyMCtafZBsRdOhIxiguInDsN",
      "include_colab_link": true
    },
    "kernelspec": {
      "name": "python3",
      "display_name": "Python 3"
    },
    "language_info": {
      "name": "python"
    }
  },
  "cells": [
    {
      "cell_type": "markdown",
      "metadata": {
        "id": "view-in-github",
        "colab_type": "text"
      },
      "source": [
        "<a href=\"https://colab.research.google.com/github/Naoki0424/my_document/blob/main/tensorflow_ver1.ipynb\" target=\"_parent\"><img src=\"https://colab.research.google.com/assets/colab-badge.svg\" alt=\"Open In Colab\"/></a>"
      ]
    },
    {
      "cell_type": "markdown",
      "metadata": {
        "id": "eLtUfyibKEiD"
      },
      "source": [
        "# Low-level APIを触ってみる"
      ]
    },
    {
      "cell_type": "markdown",
      "metadata": {
        "id": "zNemkMyJKPwn"
      },
      "source": [
        "## TensorFlowのVerを下げる\n",
        "Low-level APIを動かすためにはTensorFlowのVerを下げる必要があります"
      ]
    },
    {
      "cell_type": "code",
      "metadata": {
        "id": "Vkxp_j5ZKApx"
      },
      "source": [
        "%tensorflow_version 1.x"
      ],
      "execution_count": 22,
      "outputs": []
    },
    {
      "cell_type": "markdown",
      "metadata": {
        "id": "7qZ7lQeLKwct"
      },
      "source": [
        "## ライブラリをインポート"
      ]
    },
    {
      "cell_type": "code",
      "metadata": {
        "id": "SyLDu_g9Kzej"
      },
      "source": [
        "import numpy as np\n",
        "import matplotlib.pyplot as plt\n",
        "import tensorflow as tf"
      ],
      "execution_count": 23,
      "outputs": []
    },
    {
      "cell_type": "markdown",
      "metadata": {
        "id": "XdPUin1tLE3X"
      },
      "source": [
        "## 事前データを作成"
      ]
    },
    {
      "cell_type": "code",
      "metadata": {
        "id": "JFWmRcS5Kh44"
      },
      "source": [
        "# 目的変数\n",
        "train_t = np.array([5.2, 5.7, 6.7, 8.9, 13.2, 15.3, 20.5, 29.2, 20.0, 19.2, 10.2, 9])\n",
        "train_t = train_t.reshape([12, 1])\n",
        "# 説明変数\n",
        "train_x = np.array([[mon**n for n in range(0, 5)] for mon in range(1, 13)])"
      ],
      "execution_count": 24,
      "outputs": []
    },
    {
      "cell_type": "code",
      "metadata": {
        "colab": {
          "base_uri": "https://localhost:8080/"
        },
        "id": "ezoxLxG0Lb29",
        "outputId": "20a05dec-7d6f-47d4-acfe-5e42f0de89e2"
      },
      "source": [
        "train_t"
      ],
      "execution_count": 25,
      "outputs": [
        {
          "output_type": "execute_result",
          "data": {
            "text/plain": [
              "array([[ 5.2],\n",
              "       [ 5.7],\n",
              "       [ 6.7],\n",
              "       [ 8.9],\n",
              "       [13.2],\n",
              "       [15.3],\n",
              "       [20.5],\n",
              "       [29.2],\n",
              "       [20. ],\n",
              "       [19.2],\n",
              "       [10.2],\n",
              "       [ 9. ]])"
            ]
          },
          "metadata": {},
          "execution_count": 25
        }
      ]
    },
    {
      "cell_type": "code",
      "metadata": {
        "colab": {
          "base_uri": "https://localhost:8080/"
        },
        "id": "GgoLFbbYL4TB",
        "outputId": "a49c3394-1487-484a-d76d-c73e57d0e50e"
      },
      "source": [
        "train_x"
      ],
      "execution_count": 26,
      "outputs": [
        {
          "output_type": "execute_result",
          "data": {
            "text/plain": [
              "array([[    1,     1,     1,     1,     1],\n",
              "       [    1,     2,     4,     8,    16],\n",
              "       [    1,     3,     9,    27,    81],\n",
              "       [    1,     4,    16,    64,   256],\n",
              "       [    1,     5,    25,   125,   625],\n",
              "       [    1,     6,    36,   216,  1296],\n",
              "       [    1,     7,    49,   343,  2401],\n",
              "       [    1,     8,    64,   512,  4096],\n",
              "       [    1,     9,    81,   729,  6561],\n",
              "       [    1,    10,   100,  1000, 10000],\n",
              "       [    1,    11,   121,  1331, 14641],\n",
              "       [    1,    12,   144,  1728, 20736]])"
            ]
          },
          "metadata": {},
          "execution_count": 26
        }
      ]
    },
    {
      "cell_type": "markdown",
      "metadata": {
        "id": "l9c-0L54MAJ4"
      },
      "source": [
        "## 予測値を計算する式を定義する\n",
        "例えば式を y = Xwとする時に、これをTensorFlow(Low-level API)のコードとして実装する場合は準備が必要です。"
      ]
    },
    {
      "cell_type": "markdown",
      "metadata": {
        "id": "O7HbOS5fMyjX"
      },
      "source": [
        "入力データをTensorFlowに受け渡す際はTensorFlow側でデータを受け取るための箱を用意する必要があります。\n",
        "\n",
        "これは`Placeholder`と呼ばれています。"
      ]
    },
    {
      "cell_type": "code",
      "metadata": {
        "id": "b1G5V8F2MIFT"
      },
      "source": [
        "x = tf.placeholder(tf.float32, [None, 5])"
      ],
      "execution_count": 27,
      "outputs": []
    },
    {
      "cell_type": "markdown",
      "metadata": {
        "id": "o5HZ_egINCTU"
      },
      "source": [
        "placeholderの一つ目の引数はデータ方の指定をしています。基本的にデータ方を設定するのはLow-level APIのみです。\n",
        "\n",
        "２つ目は受け取るデータの形状を指定します。今回の場合はtrain_xを受け取るため形状は[12, 5]となるはずですが、12ではなくNoneが指定されています。これは任意の個数を受け取れるようにするためです。\n",
        "\n",
        "機械学習の学習処理においては一度に幾つかのデータをまとめて受け渡しますが、具体的な数字は場合によって異なります。そのためPlaceholderを定義する際は最初の次元をNoneにすることで任意の個数を受け取れるようにしています"
      ]
    },
    {
      "cell_type": "markdown",
      "metadata": {
        "id": "bjs0vM95OOC1"
      },
      "source": [
        "パラメータ調整の対象となる係数（上の式で言うw）にはVariableというオブジェクトを定義します。\n",
        "\n",
        "Variableは学習により最適化が行われる係数です"
      ]
    },
    {
      "cell_type": "code",
      "metadata": {
        "id": "GeMHTlNxM_k5"
      },
      "source": [
        "w = tf.Variable(tf.zeros([5, 1]))"
      ],
      "execution_count": 29,
      "outputs": []
    },
    {
      "cell_type": "markdown",
      "metadata": {
        "id": "Vgn4SAlIOwOz"
      },
      "source": [
        "`tf.zeros[5, 1]`は初期値を表しています\n",
        "\n",
        "$$\n",
        "w =\\begin{pmatrix}\n",
        "    w_{0} \\\\\n",
        "    \\vdots \\\\\n",
        "    w_{4}\n",
        "\\end{pmatrix}\n",
        "=\n",
        "\\begin{pmatrix}\n",
        "    0 \\\\\n",
        "    \\vdots \\\\\n",
        "    0\n",
        "\\end{pmatrix} \\quad\n",
        "$$"
      ]
    },
    {
      "cell_type": "markdown",
      "metadata": {
        "id": "oddKz0BwRGnw"
      },
      "source": [
        "これにより式の定義を行うことができます。TensorFlowでは行列の積を`matmul`で計算します。"
      ]
    },
    {
      "cell_type": "code",
      "metadata": {
        "id": "akWPhai-PG3l"
      },
      "source": [
        "y = tf.matmul(x, w)"
      ],
      "execution_count": 30,
      "outputs": []
    },
    {
      "cell_type": "markdown",
      "metadata": {
        "id": "_ZxvG0WiRw5w"
      },
      "source": [
        "予測値を計算する式の定義を行うことができました。"
      ]
    },
    {
      "cell_type": "markdown",
      "metadata": {
        "id": "reVzfAI9R0zd"
      },
      "source": [
        "## パラメータの最適化で使用する誤差関数の定義を行う\n",
        "\n",
        "定義する誤差関数\n",
        "\n",
        "$$\n",
        "E = \\frac{1}{2}\\sum_{n=1}^{12}(y_{n} - t_{n})^2\n",
        "$$"
      ]
    },
    {
      "cell_type": "markdown",
      "metadata": {
        "id": "GndSrSlATbE1"
      },
      "source": [
        "上の式の変数は以下を表している\n",
        "\n",
        "$$y_{n} = 予測値$$\n",
        "$$t_{n} = 正解ラベル$$\n",
        "\n",
        "正解ラベルにはtrain_tが代入されますが、train_xの時と同じくPlaceholderを定義する必要があります。"
      ]
    },
    {
      "cell_type": "code",
      "metadata": {
        "id": "crCXLA2URVG4"
      },
      "source": [
        "t = tf.placeholder(tf.float32, [None, 1])"
      ],
      "execution_count": 31,
      "outputs": []
    },
    {
      "cell_type": "markdown",
      "metadata": {
        "id": "Om92xxQTUpuJ"
      },
      "source": [
        "これらを組み合わせることで誤差関数は以下のように定義できます"
      ]
    },
    {
      "cell_type": "code",
      "metadata": {
        "id": "JdqNu8BEUhbo"
      },
      "source": [
        "loss = tf.reduce_sum(tf.square(y - t))"
      ],
      "execution_count": 32,
      "outputs": []
    },
    {
      "cell_type": "markdown",
      "metadata": {
        "id": "1bQVRA6EU2Lm"
      },
      "source": [
        "(y-t)はベクトルの引き算。square()はベクトルの各成分を2乗する組み込み関数です。\n",
        "reduce_sum()はベクトルの各成分を全て足し合わせるという組み込み関数です。先頭の1/2は誤差関数を最小化するwを求める上では不要なので省いています。"
      ]
    },
    {
      "cell_type": "markdown",
      "metadata": {
        "id": "nMVsFHi4VgA_"
      },
      "source": [
        "## 学習処理"
      ]
    },
    {
      "cell_type": "code",
      "metadata": {
        "id": "5MlchSiFU1nA"
      },
      "source": [
        ""
      ],
      "execution_count": null,
      "outputs": []
    }
  ]
}