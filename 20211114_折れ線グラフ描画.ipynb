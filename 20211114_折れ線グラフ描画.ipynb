{
  "nbformat": 4,
  "nbformat_minor": 0,
  "metadata": {
    "colab": {
      "name": "20211114_折れ線グラフ描画.ipynb",
      "provenance": [],
      "authorship_tag": "ABX9TyNkl5r7nViZnkHmfDSL0Zjx",
      "include_colab_link": true
    },
    "kernelspec": {
      "name": "python3",
      "display_name": "Python 3"
    },
    "language_info": {
      "name": "python"
    }
  },
  "cells": [
    {
      "cell_type": "markdown",
      "metadata": {
        "id": "view-in-github",
        "colab_type": "text"
      },
      "source": [
        "<a href=\"https://colab.research.google.com/github/Naoki0424/my_document/blob/main/20211114_%E6%8A%98%E3%82%8C%E7%B7%9A%E3%82%B0%E3%83%A9%E3%83%95%E6%8F%8F%E7%94%BB.ipynb\" target=\"_parent\"><img src=\"https://colab.research.google.com/assets/colab-badge.svg\" alt=\"Open In Colab\"/></a>"
      ]
    },
    {
      "cell_type": "code",
      "metadata": {
        "colab": {
          "base_uri": "https://localhost:8080/"
        },
        "id": "lBue23ZYmKlD",
        "outputId": "6150415c-84c3-4443-ae93-a740337686e2"
      },
      "source": [
        "import numpy as np\n",
        "from pandas import DataFrame\n",
        "import matplotlib.pyplot as plt\n",
        "import pandas as pd\n",
        "from google.colab import drive\n",
        "\n",
        "# ドライブのマウント\n",
        "drive.mount('/content/gdrive')"
      ],
      "execution_count": null,
      "outputs": [
        {
          "output_type": "stream",
          "name": "stdout",
          "text": [
            "Mounted at /content/gdrive\n"
          ]
        }
      ]
    },
    {
      "cell_type": "code",
      "metadata": {
        "colab": {
          "base_uri": "https://localhost:8080/",
          "height": 126
        },
        "id": "xoHa64yLmT8K",
        "outputId": "9b75a7fa-859c-4561-ef96-cd4cce4ba521"
      },
      "source": [
        "main_csv = pd.read_csv('/content/gdrive/My Drive/Colab Notebooks/work/data/youtube_chanel - youtube_chanel.csv')\n",
        "\n",
        "print('列数：{}'.format(len(main_csv.columns)))\n",
        "\n",
        "list = []\n",
        "chanel_name = 'オカジ兄やん'\n",
        "\n",
        "for row in range(len(main_csv)):\n",
        "  if chanel_name == main_csv['チャンネル名'][row]:\n",
        "    for column in range(4, len(main_csv.columns), 2):\n",
        "      list.append({'日付': main_csv.columns.values[column].replace('投稿本数', '').replace('(', '').replace(')', ''), '投稿数': main_csv.loc[row][column], '登録者数': main_csv.loc[row][column+1]})\n",
        "\n",
        "df_list = pd.DataFrame(list)\n",
        "\n",
        "df_list"
      ],
      "execution_count": null,
      "outputs": [
        {
          "output_type": "stream",
          "name": "stdout",
          "text": [
            "列数：8\n"
          ]
        },
        {
          "output_type": "execute_result",
          "data": {
            "text/html": [
              "<div>\n",
              "<style scoped>\n",
              "    .dataframe tbody tr th:only-of-type {\n",
              "        vertical-align: middle;\n",
              "    }\n",
              "\n",
              "    .dataframe tbody tr th {\n",
              "        vertical-align: top;\n",
              "    }\n",
              "\n",
              "    .dataframe thead th {\n",
              "        text-align: right;\n",
              "    }\n",
              "</style>\n",
              "<table border=\"1\" class=\"dataframe\">\n",
              "  <thead>\n",
              "    <tr style=\"text-align: right;\">\n",
              "      <th></th>\n",
              "      <th>日付</th>\n",
              "      <th>投稿数</th>\n",
              "      <th>登録者数</th>\n",
              "    </tr>\n",
              "  </thead>\n",
              "  <tbody>\n",
              "    <tr>\n",
              "      <th>0</th>\n",
              "      <td>2021/11/13</td>\n",
              "      <td>77</td>\n",
              "      <td>43000</td>\n",
              "    </tr>\n",
              "    <tr>\n",
              "      <th>1</th>\n",
              "      <td>2021/11/14</td>\n",
              "      <td>77</td>\n",
              "      <td>43000</td>\n",
              "    </tr>\n",
              "  </tbody>\n",
              "</table>\n",
              "</div>"
            ],
            "text/plain": [
              "           日付  投稿数   登録者数\n",
              "0  2021/11/13   77  43000\n",
              "1  2021/11/14   77  43000"
            ]
          },
          "metadata": {},
          "execution_count": 13
        }
      ]
    },
    {
      "cell_type": "code",
      "metadata": {
        "colab": {
          "base_uri": "https://localhost:8080/",
          "height": 281
        },
        "id": "zlhe4qAnmT2h",
        "outputId": "77658079-c724-4f72-a83b-fbed97dec49b"
      },
      "source": [
        "fig = plt.figure()\n",
        "ax_1 = fig.add_subplot(211)\n",
        "ax_2 = fig.add_subplot(212)\n",
        "\n",
        "ax_1.plot(df_list['日付'], df_list['登録者数'])\n",
        "ax_2.plot(df_list['日付'], df_list['投稿数'])"
      ],
      "execution_count": null,
      "outputs": [
        {
          "output_type": "execute_result",
          "data": {
            "text/plain": [
              "[<matplotlib.lines.Line2D at 0x7fa952071810>]"
            ]
          },
          "metadata": {},
          "execution_count": 14
        },
        {
          "output_type": "display_data",
          "data": {
            "image/png": "[encoded data removed]",
            "text/plain": [
              "<Figure size 432x288 with 2 Axes>"
            ]
          },
          "metadata": {
            "needs_background": "light"
          }
        }
      ]
    },
    {
      "cell_type": "code",
      "metadata": {
        "id": "oaVhIIoFmTqs"
      },
      "source": [
        ""
      ],
      "execution_count": null,
      "outputs": []
    }
  ]
}