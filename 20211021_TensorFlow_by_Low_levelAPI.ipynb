{
  "nbformat": 4,
  "nbformat_minor": 0,
  "metadata": {
    "colab": {
      "name": "20211021_TensorFlow_by_Low-levelAPI.ipynb",
      "provenance": [],
      "toc_visible": true,
      "authorship_tag": "ABX9TyMbdVCyxxjk4D90om0BTZ7V",
      "include_colab_link": true
    },
    "kernelspec": {
      "name": "python3",
      "display_name": "Python 3"
    },
    "language_info": {
      "name": "python"
    }
  },
  "cells": [
    {
      "cell_type": "markdown",
      "metadata": {
        "id": "view-in-github",
        "colab_type": "text"
      },
      "source": [
        "<a href=\"https://colab.research.google.com/github/Naoki0424/my_document/blob/main/20211021_TensorFlow_by_Low_levelAPI.ipynb\" target=\"_parent\"><img src=\"https://colab.research.google.com/assets/colab-badge.svg\" alt=\"Open In Colab\"/></a>"
      ]
    },
    {
      "cell_type": "markdown",
      "metadata": {
        "id": "eLtUfyibKEiD"
      },
      "source": [
        "# Low-level APIを触ってみる"
      ]
    },
    {
      "cell_type": "markdown",
      "metadata": {
        "id": "zNemkMyJKPwn"
      },
      "source": [
        "## TensorFlowのVerを下げる\n",
        "Low-level APIを動かすためにはTensorFlowのVerを下げる必要があります"
      ]
    },
    {
      "cell_type": "code",
      "metadata": {
        "id": "Vkxp_j5ZKApx"
      },
      "source": [
        "%tensorflow_version 1.x"
      ],
      "execution_count": 41,
      "outputs": []
    },
    {
      "cell_type": "markdown",
      "metadata": {
        "id": "7qZ7lQeLKwct"
      },
      "source": [
        "## ライブラリをインポート"
      ]
    },
    {
      "cell_type": "code",
      "metadata": {
        "id": "SyLDu_g9Kzej"
      },
      "source": [
        "import numpy as np\n",
        "import matplotlib.pyplot as plt\n",
        "import tensorflow as tf"
      ],
      "execution_count": 42,
      "outputs": []
    },
    {
      "cell_type": "markdown",
      "metadata": {
        "id": "XdPUin1tLE3X"
      },
      "source": [
        "## 事前データを作成"
      ]
    },
    {
      "cell_type": "code",
      "metadata": {
        "id": "JFWmRcS5Kh44"
      },
      "source": [
        "# 目的変数\n",
        "train_t = np.array([5.2, 5.7, 6.7, 8.9, 13.2, 15.3, 20.5, 29.2, 20.0, 19.2, 10.2, 9])\n",
        "train_t = train_t.reshape([12, 1])\n",
        "# 説明変数\n",
        "train_x = np.array([[mon**n for n in range(0, 5)] for mon in range(1, 13)])"
      ],
      "execution_count": 43,
      "outputs": []
    },
    {
      "cell_type": "code",
      "metadata": {
        "colab": {
          "base_uri": "https://localhost:8080/"
        },
        "id": "ezoxLxG0Lb29",
        "outputId": "4c545a8b-d8e8-4e19-b752-083f6616ffe6"
      },
      "source": [
        "train_t"
      ],
      "execution_count": 44,
      "outputs": [
        {
          "output_type": "execute_result",
          "data": {
            "text/plain": [
              "array([[ 5.2],\n",
              "       [ 5.7],\n",
              "       [ 6.7],\n",
              "       [ 8.9],\n",
              "       [13.2],\n",
              "       [15.3],\n",
              "       [20.5],\n",
              "       [29.2],\n",
              "       [20. ],\n",
              "       [19.2],\n",
              "       [10.2],\n",
              "       [ 9. ]])"
            ]
          },
          "metadata": {},
          "execution_count": 44
        }
      ]
    },
    {
      "cell_type": "code",
      "metadata": {
        "colab": {
          "base_uri": "https://localhost:8080/"
        },
        "id": "GgoLFbbYL4TB",
        "outputId": "0e65d7b4-4109-4e46-ec02-a7395de2d1b4"
      },
      "source": [
        "train_x"
      ],
      "execution_count": 45,
      "outputs": [
        {
          "output_type": "execute_result",
          "data": {
            "text/plain": [
              "array([[    1,     1,     1,     1,     1],\n",
              "       [    1,     2,     4,     8,    16],\n",
              "       [    1,     3,     9,    27,    81],\n",
              "       [    1,     4,    16,    64,   256],\n",
              "       [    1,     5,    25,   125,   625],\n",
              "       [    1,     6,    36,   216,  1296],\n",
              "       [    1,     7,    49,   343,  2401],\n",
              "       [    1,     8,    64,   512,  4096],\n",
              "       [    1,     9,    81,   729,  6561],\n",
              "       [    1,    10,   100,  1000, 10000],\n",
              "       [    1,    11,   121,  1331, 14641],\n",
              "       [    1,    12,   144,  1728, 20736]])"
            ]
          },
          "metadata": {},
          "execution_count": 45
        }
      ]
    },
    {
      "cell_type": "markdown",
      "metadata": {
        "id": "l9c-0L54MAJ4"
      },
      "source": [
        "## 予測値を計算する式を定義する\n",
        "例えば式を y = Xwとする時に、これをTensorFlow(Low-level API)のコードとして実装する場合は準備が必要です。"
      ]
    },
    {
      "cell_type": "markdown",
      "metadata": {
        "id": "O7HbOS5fMyjX"
      },
      "source": [
        "入力データをTensorFlowに受け渡す際はTensorFlow側でデータを受け取るための箱を用意する必要があります。\n",
        "\n",
        "これは`Placeholder`と呼ばれています。"
      ]
    },
    {
      "cell_type": "code",
      "metadata": {
        "id": "b1G5V8F2MIFT"
      },
      "source": [
        "x = tf.placeholder(tf.float32, [None, 5])"
      ],
      "execution_count": 46,
      "outputs": []
    },
    {
      "cell_type": "markdown",
      "metadata": {
        "id": "o5HZ_egINCTU"
      },
      "source": [
        "placeholderの一つ目の引数はデータ方の指定をしています。基本的にデータ方を設定するのはLow-level APIのみです。\n",
        "\n",
        "２つ目は受け取るデータの形状を指定します。今回の場合はtrain_xを受け取るため形状は[12, 5]となるはずですが、12ではなくNoneが指定されています。これは任意の個数を受け取れるようにするためです。\n",
        "\n",
        "機械学習の学習処理においては一度に幾つかのデータをまとめて受け渡しますが、具体的な数字は場合によって異なります。そのためPlaceholderを定義する際は最初の次元をNoneにすることで任意の個数を受け取れるようにしています"
      ]
    },
    {
      "cell_type": "markdown",
      "metadata": {
        "id": "bjs0vM95OOC1"
      },
      "source": [
        "パラメータ調整の対象となる係数（上の式で言うw）にはVariableというオブジェクトを定義します。\n",
        "\n",
        "Variableは学習により最適化が行われる係数です"
      ]
    },
    {
      "cell_type": "code",
      "metadata": {
        "id": "GeMHTlNxM_k5"
      },
      "source": [
        "w = tf.Variable(tf.zeros([5, 1]))"
      ],
      "execution_count": 47,
      "outputs": []
    },
    {
      "cell_type": "markdown",
      "metadata": {
        "id": "Vgn4SAlIOwOz"
      },
      "source": [
        "`tf.zeros[5, 1]`は初期値を表しています\n",
        "\n",
        "$$\n",
        "w =\\begin{pmatrix}\n",
        "    w_{0} \\\\\n",
        "    \\vdots \\\\\n",
        "    w_{4}\n",
        "\\end{pmatrix}\n",
        "=\n",
        "\\begin{pmatrix}\n",
        "    0 \\\\\n",
        "    \\vdots \\\\\n",
        "    0\n",
        "\\end{pmatrix} \\quad\n",
        "$$"
      ]
    },
    {
      "cell_type": "markdown",
      "metadata": {
        "id": "oddKz0BwRGnw"
      },
      "source": [
        "これにより式の定義を行うことができます。TensorFlowでは行列の積を`matmul`で計算します。"
      ]
    },
    {
      "cell_type": "code",
      "metadata": {
        "id": "akWPhai-PG3l"
      },
      "source": [
        "y = tf.matmul(x, w)"
      ],
      "execution_count": 48,
      "outputs": []
    },
    {
      "cell_type": "markdown",
      "metadata": {
        "id": "_ZxvG0WiRw5w"
      },
      "source": [
        "予測値を計算する式の定義を行うことができました。"
      ]
    },
    {
      "cell_type": "markdown",
      "metadata": {
        "id": "reVzfAI9R0zd"
      },
      "source": [
        "## パラメータの最適化で使用する誤差関数の定義を行う\n",
        "\n",
        "定義する誤差関数\n",
        "\n",
        "$$\n",
        "E = \\frac{1}{2}\\sum_{n=1}^{12}(y_{n} - t_{n})^2\n",
        "$$"
      ]
    },
    {
      "cell_type": "markdown",
      "metadata": {
        "id": "GndSrSlATbE1"
      },
      "source": [
        "上の式の変数は以下を表しています\n",
        "\n",
        "$$y_{n} = 予測値$$\n",
        "$$t_{n} = 正解ラベル$$\n",
        "\n",
        "正解ラベルにはtrain_tが代入されますが、train_xの時と同じくPlaceholderを定義する必要があります。"
      ]
    },
    {
      "cell_type": "code",
      "metadata": {
        "id": "crCXLA2URVG4"
      },
      "source": [
        "t = tf.placeholder(tf.float32, [None, 1])"
      ],
      "execution_count": 49,
      "outputs": []
    },
    {
      "cell_type": "markdown",
      "metadata": {
        "id": "Om92xxQTUpuJ"
      },
      "source": [
        "これらを組み合わせることで誤差関数は以下のように定義できます"
      ]
    },
    {
      "cell_type": "code",
      "metadata": {
        "id": "JdqNu8BEUhbo"
      },
      "source": [
        "loss = tf.reduce_sum(tf.square(y - t))"
      ],
      "execution_count": 50,
      "outputs": []
    },
    {
      "cell_type": "markdown",
      "metadata": {
        "id": "1bQVRA6EU2Lm"
      },
      "source": [
        "(y-t)はベクトルの引き算。square()はベクトルの各成分を2乗する組み込み関数です。\n",
        "reduce_sum()はベクトルの各成分を全て足し合わせるという組み込み関数です。先頭の1/2は誤差関数を最小化するwを求める上では不要なので省いています。"
      ]
    },
    {
      "cell_type": "markdown",
      "metadata": {
        "id": "nMVsFHi4VgA_"
      },
      "source": [
        "## 学習処理"
      ]
    },
    {
      "cell_type": "markdown",
      "metadata": {
        "id": "coHPFOg_XPRh"
      },
      "source": [
        "最適化に使用するアルゴリズムを指定する"
      ]
    },
    {
      "cell_type": "code",
      "metadata": {
        "id": "5MlchSiFU1nA"
      },
      "source": [
        "train_step = tf.train.AdamOptimizer().minimize(loss)"
      ],
      "execution_count": 51,
      "outputs": []
    },
    {
      "cell_type": "markdown",
      "metadata": {
        "id": "1uI2yie3Xanh"
      },
      "source": [
        "ここではAdamと呼ばれるアルゴリズムを用いて先ほどの誤差関数を最小化するパラメータwを求めます。"
      ]
    },
    {
      "cell_type": "code",
      "metadata": {
        "id": "-tyBN3kPXaS7"
      },
      "source": [
        "sess = tf.Session()\n",
        "sess.run(tf.global_variables_initializer())"
      ],
      "execution_count": 52,
      "outputs": []
    },
    {
      "cell_type": "markdown",
      "metadata": {
        "id": "lQQpQrlZXzEg"
      },
      "source": [
        "↑はLow-level APIの特徴的な仕組みです。\n",
        "これまでにPlaceholderとVariableを定義してきましたが、実際の計算は行われていません。\n",
        "\n",
        "ここからの計算処理は全てSession上で行われます。"
      ]
    },
    {
      "cell_type": "code",
      "metadata": {
        "colab": {
          "base_uri": "https://localhost:8080/"
        },
        "id": "cO7EKeSvXwja",
        "outputId": "1c68d242-46a8-4fc0-cc44-00b05f9b7c37"
      },
      "source": [
        "i = 0\n",
        "for _ in range(100000):\n",
        "  i += 1\n",
        "  sess.run(train_step, feed_dict={x:train_x, t:train_t})\n",
        "  if i % 10000 == 0:\n",
        "    loss_val = sess.run(loss, feed_dict={x:train_x, t:train_t})\n",
        "    print('Step:{}, Loss:{}'.format(i, loss_val))"
      ],
      "execution_count": 53,
      "outputs": [
        {
          "output_type": "stream",
          "name": "stdout",
          "text": [
            "Step:10000, Loss:102.6875\n",
            "Step:20000, Loss:100.81358337402344\n",
            "Step:30000, Loss:99.13748168945312\n",
            "Step:40000, Loss:97.58169555664062\n",
            "Step:50000, Loss:96.14149475097656\n",
            "Step:60000, Loss:94.80781555175781\n",
            "Step:70000, Loss:93.56234741210938\n",
            "Step:80000, Loss:98.77693176269531\n",
            "Step:90000, Loss:91.34980010986328\n",
            "Step:100000, Loss:111.76800537109375\n"
          ]
        }
      ]
    },
    {
      "cell_type": "markdown",
      "metadata": {
        "id": "Y5nrGKimcNA7"
      },
      "source": [
        "`sess.run(train_step, feed_dict={x:train_x, t:train_t})`でパラメータ()wの調整を行っています。\n",
        "\n",
        "`sess.run(loss, feed_dict={x:train_x, t:train_t})`で損失関数の値を取得しています。\n",
        "\n",
        "`sess.run(train_step, feed_dict={x:train_x, t:train_t})`では`feed_dict`の設定により受け取ったPlaceholderを用いて誤差関数を最小にするパラメータ(w)の勾配を求め且つ、パラメータ(w)の更新まで行っています。\n",
        "\n"
      ]
    },
    {
      "cell_type": "markdown",
      "metadata": {
        "id": "evp0F7l7a6VD"
      },
      "source": [
        "## 評価"
      ]
    },
    {
      "cell_type": "code",
      "metadata": {
        "colab": {
          "base_uri": "https://localhost:8080/"
        },
        "id": "cBNjpAXRZzof",
        "outputId": "5a2c09b6-66a8-445f-9a3c-215e94f77b33"
      },
      "source": [
        "sess.run(w)"
      ],
      "execution_count": 54,
      "outputs": [
        {
          "output_type": "execute_result",
          "data": {
            "text/plain": [
              "array([[ 6.2141857e+00],\n",
              "       [-3.1461933e+00],\n",
              "       [ 1.4712111e+00],\n",
              "       [-1.1026348e-01],\n",
              "       [ 9.6194749e-04]], dtype=float32)"
            ]
          },
          "metadata": {},
          "execution_count": 54
        }
      ]
    },
    {
      "cell_type": "markdown",
      "metadata": {
        "id": "Ys2IMrGKa-ZI"
      },
      "source": [
        "現時点のパラメータを確認することができます。この値を用いて平均気温を予測する多項式を関数として定義すると以下になります。"
      ]
    },
    {
      "cell_type": "code",
      "metadata": {
        "id": "IGvh4TB-a9T8"
      },
      "source": [
        "ws = sess.run(w)\n",
        "def predict(x):\n",
        "  pred = sum(ws[n][0] * x**n for n in range(0, 5))\n",
        "  return pred"
      ],
      "execution_count": 61,
      "outputs": []
    },
    {
      "cell_type": "markdown",
      "metadata": {
        "id": "3_VNbqokbn0F"
      },
      "source": [
        "これは次の多項式と同じ意味です\n",
        "\n",
        "$$\n",
        "y = w_{0} + w_{1}x + w_{2}x^2 + w_{3}x^3 + w_{4}x^4\n",
        "$$"
      ]
    },
    {
      "cell_type": "code",
      "metadata": {
        "colab": {
          "base_uri": "https://localhost:8080/",
          "height": 283
        },
        "id": "bhZ0IhaUb_Px",
        "outputId": "5eeb1776-a8a7-4faa-c2b6-d97999946703"
      },
      "source": [
        "fig = plt.figure()\n",
        "subplot = fig.add_subplot(1, 1, 1)\n",
        "subplot.set_xlim(1, 12)\n",
        "subplot.set_xticks(range(1, 13))\n",
        "subplot.scatter(range(1, 13), train_t)\n",
        "xs = np.linspace(1, 12, 100)\n",
        "ys = predict(xs)\n",
        "subplot.plot(xs, ys)"
      ],
      "execution_count": 63,
      "outputs": [
        {
          "output_type": "execute_result",
          "data": {
            "text/plain": [
              "[<matplotlib.lines.Line2D at 0x7f2e88ed0390>]"
            ]
          },
          "metadata": {},
          "execution_count": 63
        },
        {
          "output_type": "display_data",
          "data": {
            "image/png": "[encoded data removed]",
            "text/plain": [
              "<Figure size 432x288 with 1 Axes>"
            ]
          },
          "metadata": {
            "needs_background": "light"
          }
        }
      ]
    },
    {
      "cell_type": "markdown",
      "metadata": {
        "id": "ItE9druee8LI"
      },
      "source": [
        "正解ラベルと比較し滑らかな一般化した曲線が得られていることが確認できる。"
      ]
    },
    {
      "cell_type": "code",
      "metadata": {
        "id": "3ByvYFoFeP0U"
      },
      "source": [
        ""
      ],
      "execution_count": null,
      "outputs": []
    }
  ]
}